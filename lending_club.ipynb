{
  "cells": [
    {
      "cell_type": "markdown",
      "metadata": {
        "id": "view-in-github",
        "colab_type": "text"
      },
      "source": [
        "<a href=\"https://colab.research.google.com/github/michalinahulak/lending_club/blob/main/lending_club.ipynb\" target=\"_parent\"><img src=\"https://colab.research.google.com/assets/colab-badge.svg\" alt=\"Open In Colab\"/></a>"
      ]
    },
    {
      "cell_type": "code",
      "execution_count": null,
      "metadata": {
        "colab": {
          "base_uri": "https://localhost:8080/",
          "height": 336
        },
        "id": "BpD57tMG7p6g",
        "outputId": "67b9a93b-45b4-47eb-def6-e3fc3540d1e9"
      },
      "outputs": [
        {
          "output_type": "execute_result",
          "data": {
            "text/html": [
              "<img src=\"https://mma.prnewswire.com/media/76307/lending_club_logo.jpg?p=facebook\" width=\"600\"/>"
            ],
            "text/plain": [
              "<IPython.core.display.Image object>"
            ]
          },
          "metadata": {},
          "execution_count": 44
        }
      ],
      "source": [
        "Image(url='https://mma.prnewswire.com/media/76307/lending_club_logo.jpg?p=facebook', width=600)"
      ]
    },
    {
      "cell_type": "markdown",
      "metadata": {
        "id": "2SPNOW_d5VRS"
      },
      "source": [
        "# What is Lending Club?\n",
        "LendingClub is a financial services company based in San Francisco, California. It was the first peer-to-peer lending platform to register its offerings as securities with the SEC and introduced loan trading on a secondary market. At its peak, LendingClub was the world's largest peer-to-peer lending platform. The company facilitated unsecured personal loans ranging from 1,000 to 40,000 $, with a standard loan period of three years. Investors could browse and select loans to invest in based on borrower information and loan details. LendingClub earned revenue through borrower origination fees and investor service fees. In addition to peer-to-peer lending, LendingClub also offers direct-to-consumer loans through WebBank. The company faced challenges in 2016 due to investor attrition, loan scandals, and disclosure concerns, resulting in a drop in share price and the CEO's resignation. In 2020, LendingClub acquired Radius Bank and shifted its focus away from peer-to-peer lending, discontinuing new loans and secondary marketplace transactions."
      ]
    },
    {
      "cell_type": "markdown",
      "metadata": {
        "id": "yKK-45QF8Kx0"
      },
      "source": [
        "# Dataset description\n",
        "The dataset \"accepted_2007_to_2018q4.csv\" contains data related to accepted loans from LendingClub, covering the period from 2007 to the fourth quarter of 2018.\n",
        "\n",
        "* acc_now_delinq: The number of accounts on which the borrower is currently delinquent.\n",
        "* addr_state: The state provided by the borrower in the loan application.\n",
        "* annual_inc: The self-reported annual income provided by the borrower during registration.\n",
        "* application_type: Indicates whether the loan is an individual application or a joint application with two co-borrowers.\n",
        "* dti: The debt-to-income ratio calculated using the borrower's total monthly debt payments on the total debt obligations, excluding mortgage and the requested loan, divided by the borrower's self-reported monthly income.\n",
        "* emp_length: Employment length in years. Possible values range from 0 to 10, where 0 means less than one year and 10 means ten or more years.\n",
        "* grade: The assigned grade of the loan by LC.\n",
        "* home_ownership: The home ownership status provided by the borrower during registration.\n",
        "* initial_list_status: The initial listing status of the loan.\n",
        "* installment: The monthly payment amount the borrower is obligated to repay if the loan is granted.\n",
        "* int_rate: The interest rate of the loan.\n",
        "* loan_amnt: The listed amount of the loan applied for by the borrower.\n",
        "* loan_status: The current status of the loan.\n",
        "* purpose"
      ]
    },
    {
      "cell_type": "code",
      "execution_count": null,
      "metadata": {
        "id": "t95n0kla5fVG"
      },
      "outputs": [],
      "source": [
        "!pip install kaggle\n",
        "!pip install pyspark"
      ]
    },
    {
      "cell_type": "markdown",
      "metadata": {
        "id": "n-smmWOP5kbV"
      },
      "source": [
        "# Imports"
      ]
    },
    {
      "cell_type": "code",
      "execution_count": 44,
      "metadata": {
        "id": "kAUISuQC1c-M"
      },
      "outputs": [],
      "source": [
        "import pandas as pd\n",
        "import numpy as np\n",
        "import zipfile\n",
        "\n",
        "import matplotlib.pyplot as plt\n",
        "\n",
        "from IPython.display import Image\n",
        "\n",
        "from pyspark.sql import SparkSession\n",
        "from pyspark.sql.functions import col, isnan, when, count, regexp_extract\n",
        "from pyspark.ml.feature import VectorAssembler\n",
        "from pyspark.ml.feature import MinMaxScaler\n",
        "from pyspark.ml.linalg import DenseVector\n",
        "from pyspark.ml.feature import StringIndexer, OneHotEncoder\n",
        "from pyspark.ml.classification import GBTClassifier\n",
        "from pyspark.ml.evaluation import MulticlassClassificationEvaluator\n",
        "from pyspark.ml.classification import MultilayerPerceptronClassifier\n",
        "from pyspark.ml.classification import  RandomForestClassifier\n",
        "from pyspark.ml.classification import LogisticRegression\n",
        "from pyspark.ml.tuning import ParamGridBuilder, CrossValidator\n",
        "from pyspark.sql.types import FloatType, IntegerType\n",
        "\n",
        "from imblearn.over_sampling import SMOTE\n",
        "\n",
        "import warnings\n",
        "warnings.simplefilter(action='ignore', category=FutureWarning)\n",
        "\n",
        "from sklearn.model_selection import train_test_split\n"
      ]
    },
    {
      "cell_type": "markdown",
      "metadata": {
        "id": "3c_mYY2YIQlg"
      },
      "source": [
        "# Functions"
      ]
    },
    {
      "cell_type": "code",
      "execution_count": 3,
      "metadata": {
        "id": "oS-ybO7JIR9i"
      },
      "outputs": [],
      "source": [
        "def one_hot_encode_column(df, input_col):\n",
        "    indexer = StringIndexer(inputCol=input_col, outputCol=input_col + '_indexed')\n",
        "    indexed_df = indexer.fit(df).transform(df)\n",
        "\n",
        "    encoder = OneHotEncoder(inputCol=input_col + '_indexed', outputCol=input_col + '_encoded')\n",
        "    encoded_df = encoder.fit(indexed_df).transform(indexed_df)\n",
        "\n",
        "    encoded_df = encoded_df.drop(input_col, input_col + '_indexed')\n",
        "\n",
        "    return encoded_df"
      ]
    },
    {
      "cell_type": "markdown",
      "metadata": {
        "id": "JpMEf4vB1a-J"
      },
      "source": [
        "#Upload dataset"
      ]
    },
    {
      "cell_type": "code",
      "execution_count": 4,
      "metadata": {
        "id": "6rLhgL3m6xvf"
      },
      "outputs": [],
      "source": [
        "spark = SparkSession.builder \\\n",
        "    .appName(\"Aplikacja\") \\\n",
        "    .getOrCreate()"
      ]
    },
    {
      "cell_type": "code",
      "execution_count": null,
      "metadata": {
        "id": "tb8aIUOy5pu2"
      },
      "outputs": [],
      "source": [
        "#please upload your kaggle API (kaggle.json)\n",
        "\n",
        "from google.colab import files\n",
        "files.upload()"
      ]
    },
    {
      "cell_type": "code",
      "execution_count": 6,
      "metadata": {
        "id": "9B7UOTxM5s1F",
        "colab": {
          "base_uri": "https://localhost:8080/"
        },
        "outputId": "ba0d8f6b-0d9c-43b8-9d19-9f0e828c307c"
      },
      "outputs": [
        {
          "output_type": "stream",
          "name": "stdout",
          "text": [
            "Downloading lending-club.zip to /content\n",
            "100% 1.26G/1.26G [00:11<00:00, 161MB/s]\n",
            "100% 1.26G/1.26G [00:11<00:00, 122MB/s]\n"
          ]
        }
      ],
      "source": [
        "!mkdir -p ~/.kaggle\n",
        "!cp kaggle.json ~/.kaggle/\n",
        "!chmod 600 ~/.kaggle/kaggle.json\n",
        "!kaggle datasets download -d wordsforthewise/lending-club"
      ]
    },
    {
      "cell_type": "code",
      "execution_count": 7,
      "metadata": {
        "id": "rpN1gzmH54v8",
        "colab": {
          "base_uri": "https://localhost:8080/"
        },
        "outputId": "4416cd24-d0ba-4416-b5ec-46740cf98b96"
      },
      "outputs": [
        {
          "output_type": "stream",
          "name": "stdout",
          "text": [
            "File has been extracted.\n"
          ]
        }
      ],
      "source": [
        "#unzip\n",
        "zip_file_path = '/content/lending-club.zip'\n",
        "extract_dir = '/content/dataset'\n",
        "\n",
        "with zipfile.ZipFile(zip_file_path, 'r') as zip_ref:\n",
        "    zip_ref.extractall(extract_dir)\n",
        "\n",
        "print(\"File has been extracted.\")"
      ]
    },
    {
      "cell_type": "code",
      "execution_count": 8,
      "metadata": {
        "id": "1ktwQEOL6n4R",
        "colab": {
          "base_uri": "https://localhost:8080/",
          "height": 313
        },
        "outputId": "889c4d85-561d-4551-d282-e3a7aba5182f"
      },
      "outputs": [
        {
          "output_type": "execute_result",
          "data": {
            "text/plain": [
              "         id             purpose        term verification_status  \\\n",
              "0  68407277  debt_consolidation   36 months        Not Verified   \n",
              "1  68355089      small_business   36 months        Not Verified   \n",
              "2  68341763    home_improvement   60 months        Not Verified   \n",
              "3  66310712  debt_consolidation   60 months     Source Verified   \n",
              "4  68476807      major_purchase   60 months     Source Verified   \n",
              "\n",
              "  acc_now_delinq addr_state annual_inc application_type    dti grade  \\\n",
              "0            0.0         PA    55000.0       Individual   5.91     C   \n",
              "1            0.0         SD    65000.0       Individual  16.06     C   \n",
              "2            0.0         IL    63000.0        Joint App  10.78     B   \n",
              "3            0.0         NJ   110000.0       Individual  17.06     C   \n",
              "4            0.0         PA   104433.0       Individual  25.37     F   \n",
              "\n",
              "  home_ownership initial_list_status installment int_rate loan_amnt  \\\n",
              "0       MORTGAGE                   w      123.03    13.99    3600.0   \n",
              "1       MORTGAGE                   w      820.28    11.99   24700.0   \n",
              "2       MORTGAGE                   w      432.66    10.78   20000.0   \n",
              "3       MORTGAGE                   w       829.9    14.85   35000.0   \n",
              "4       MORTGAGE                   w      289.91    22.45   10400.0   \n",
              "\n",
              "  loan_status  \n",
              "0  Fully Paid  \n",
              "1  Fully Paid  \n",
              "2  Fully Paid  \n",
              "3     Current  \n",
              "4  Fully Paid  "
            ],
            "text/html": [
              "\n",
              "  <div id=\"df-a14dec04-61a2-4cee-9ef1-b9bca31fdd16\" class=\"colab-df-container\">\n",
              "    <div>\n",
              "<style scoped>\n",
              "    .dataframe tbody tr th:only-of-type {\n",
              "        vertical-align: middle;\n",
              "    }\n",
              "\n",
              "    .dataframe tbody tr th {\n",
              "        vertical-align: top;\n",
              "    }\n",
              "\n",
              "    .dataframe thead th {\n",
              "        text-align: right;\n",
              "    }\n",
              "</style>\n",
              "<table border=\"1\" class=\"dataframe\">\n",
              "  <thead>\n",
              "    <tr style=\"text-align: right;\">\n",
              "      <th></th>\n",
              "      <th>id</th>\n",
              "      <th>purpose</th>\n",
              "      <th>term</th>\n",
              "      <th>verification_status</th>\n",
              "      <th>acc_now_delinq</th>\n",
              "      <th>addr_state</th>\n",
              "      <th>annual_inc</th>\n",
              "      <th>application_type</th>\n",
              "      <th>dti</th>\n",
              "      <th>grade</th>\n",
              "      <th>home_ownership</th>\n",
              "      <th>initial_list_status</th>\n",
              "      <th>installment</th>\n",
              "      <th>int_rate</th>\n",
              "      <th>loan_amnt</th>\n",
              "      <th>loan_status</th>\n",
              "    </tr>\n",
              "  </thead>\n",
              "  <tbody>\n",
              "    <tr>\n",
              "      <th>0</th>\n",
              "      <td>68407277</td>\n",
              "      <td>debt_consolidation</td>\n",
              "      <td>36 months</td>\n",
              "      <td>Not Verified</td>\n",
              "      <td>0.0</td>\n",
              "      <td>PA</td>\n",
              "      <td>55000.0</td>\n",
              "      <td>Individual</td>\n",
              "      <td>5.91</td>\n",
              "      <td>C</td>\n",
              "      <td>MORTGAGE</td>\n",
              "      <td>w</td>\n",
              "      <td>123.03</td>\n",
              "      <td>13.99</td>\n",
              "      <td>3600.0</td>\n",
              "      <td>Fully Paid</td>\n",
              "    </tr>\n",
              "    <tr>\n",
              "      <th>1</th>\n",
              "      <td>68355089</td>\n",
              "      <td>small_business</td>\n",
              "      <td>36 months</td>\n",
              "      <td>Not Verified</td>\n",
              "      <td>0.0</td>\n",
              "      <td>SD</td>\n",
              "      <td>65000.0</td>\n",
              "      <td>Individual</td>\n",
              "      <td>16.06</td>\n",
              "      <td>C</td>\n",
              "      <td>MORTGAGE</td>\n",
              "      <td>w</td>\n",
              "      <td>820.28</td>\n",
              "      <td>11.99</td>\n",
              "      <td>24700.0</td>\n",
              "      <td>Fully Paid</td>\n",
              "    </tr>\n",
              "    <tr>\n",
              "      <th>2</th>\n",
              "      <td>68341763</td>\n",
              "      <td>home_improvement</td>\n",
              "      <td>60 months</td>\n",
              "      <td>Not Verified</td>\n",
              "      <td>0.0</td>\n",
              "      <td>IL</td>\n",
              "      <td>63000.0</td>\n",
              "      <td>Joint App</td>\n",
              "      <td>10.78</td>\n",
              "      <td>B</td>\n",
              "      <td>MORTGAGE</td>\n",
              "      <td>w</td>\n",
              "      <td>432.66</td>\n",
              "      <td>10.78</td>\n",
              "      <td>20000.0</td>\n",
              "      <td>Fully Paid</td>\n",
              "    </tr>\n",
              "    <tr>\n",
              "      <th>3</th>\n",
              "      <td>66310712</td>\n",
              "      <td>debt_consolidation</td>\n",
              "      <td>60 months</td>\n",
              "      <td>Source Verified</td>\n",
              "      <td>0.0</td>\n",
              "      <td>NJ</td>\n",
              "      <td>110000.0</td>\n",
              "      <td>Individual</td>\n",
              "      <td>17.06</td>\n",
              "      <td>C</td>\n",
              "      <td>MORTGAGE</td>\n",
              "      <td>w</td>\n",
              "      <td>829.9</td>\n",
              "      <td>14.85</td>\n",
              "      <td>35000.0</td>\n",
              "      <td>Current</td>\n",
              "    </tr>\n",
              "    <tr>\n",
              "      <th>4</th>\n",
              "      <td>68476807</td>\n",
              "      <td>major_purchase</td>\n",
              "      <td>60 months</td>\n",
              "      <td>Source Verified</td>\n",
              "      <td>0.0</td>\n",
              "      <td>PA</td>\n",
              "      <td>104433.0</td>\n",
              "      <td>Individual</td>\n",
              "      <td>25.37</td>\n",
              "      <td>F</td>\n",
              "      <td>MORTGAGE</td>\n",
              "      <td>w</td>\n",
              "      <td>289.91</td>\n",
              "      <td>22.45</td>\n",
              "      <td>10400.0</td>\n",
              "      <td>Fully Paid</td>\n",
              "    </tr>\n",
              "  </tbody>\n",
              "</table>\n",
              "</div>\n",
              "    <div class=\"colab-df-buttons\">\n",
              "\n",
              "  <div class=\"colab-df-container\">\n",
              "    <button class=\"colab-df-convert\" onclick=\"convertToInteractive('df-a14dec04-61a2-4cee-9ef1-b9bca31fdd16')\"\n",
              "            title=\"Convert this dataframe to an interactive table.\"\n",
              "            style=\"display:none;\">\n",
              "\n",
              "  <svg xmlns=\"http://www.w3.org/2000/svg\" height=\"24px\" viewBox=\"0 -960 960 960\">\n",
              "    <path d=\"M120-120v-720h720v720H120Zm60-500h600v-160H180v160Zm220 220h160v-160H400v160Zm0 220h160v-160H400v160ZM180-400h160v-160H180v160Zm440 0h160v-160H620v160ZM180-180h160v-160H180v160Zm440 0h160v-160H620v160Z\"/>\n",
              "  </svg>\n",
              "    </button>\n",
              "\n",
              "  <style>\n",
              "    .colab-df-container {\n",
              "      display:flex;\n",
              "      gap: 12px;\n",
              "    }\n",
              "\n",
              "    .colab-df-convert {\n",
              "      background-color: #E8F0FE;\n",
              "      border: none;\n",
              "      border-radius: 50%;\n",
              "      cursor: pointer;\n",
              "      display: none;\n",
              "      fill: #1967D2;\n",
              "      height: 32px;\n",
              "      padding: 0 0 0 0;\n",
              "      width: 32px;\n",
              "    }\n",
              "\n",
              "    .colab-df-convert:hover {\n",
              "      background-color: #E2EBFA;\n",
              "      box-shadow: 0px 1px 2px rgba(60, 64, 67, 0.3), 0px 1px 3px 1px rgba(60, 64, 67, 0.15);\n",
              "      fill: #174EA6;\n",
              "    }\n",
              "\n",
              "    .colab-df-buttons div {\n",
              "      margin-bottom: 4px;\n",
              "    }\n",
              "\n",
              "    [theme=dark] .colab-df-convert {\n",
              "      background-color: #3B4455;\n",
              "      fill: #D2E3FC;\n",
              "    }\n",
              "\n",
              "    [theme=dark] .colab-df-convert:hover {\n",
              "      background-color: #434B5C;\n",
              "      box-shadow: 0px 1px 3px 1px rgba(0, 0, 0, 0.15);\n",
              "      filter: drop-shadow(0px 1px 2px rgba(0, 0, 0, 0.3));\n",
              "      fill: #FFFFFF;\n",
              "    }\n",
              "  </style>\n",
              "\n",
              "    <script>\n",
              "      const buttonEl =\n",
              "        document.querySelector('#df-a14dec04-61a2-4cee-9ef1-b9bca31fdd16 button.colab-df-convert');\n",
              "      buttonEl.style.display =\n",
              "        google.colab.kernel.accessAllowed ? 'block' : 'none';\n",
              "\n",
              "      async function convertToInteractive(key) {\n",
              "        const element = document.querySelector('#df-a14dec04-61a2-4cee-9ef1-b9bca31fdd16');\n",
              "        const dataTable =\n",
              "          await google.colab.kernel.invokeFunction('convertToInteractive',\n",
              "                                                    [key], {});\n",
              "        if (!dataTable) return;\n",
              "\n",
              "        const docLinkHtml = 'Like what you see? Visit the ' +\n",
              "          '<a target=\"_blank\" href=https://colab.research.google.com/notebooks/data_table.ipynb>data table notebook</a>'\n",
              "          + ' to learn more about interactive tables.';\n",
              "        element.innerHTML = '';\n",
              "        dataTable['output_type'] = 'display_data';\n",
              "        await google.colab.output.renderOutput(dataTable, element);\n",
              "        const docLink = document.createElement('div');\n",
              "        docLink.innerHTML = docLinkHtml;\n",
              "        element.appendChild(docLink);\n",
              "      }\n",
              "    </script>\n",
              "  </div>\n",
              "\n",
              "\n",
              "<div id=\"df-7de1c763-1eb8-4c43-a292-cbf61250c31a\">\n",
              "  <button class=\"colab-df-quickchart\" onclick=\"quickchart('df-7de1c763-1eb8-4c43-a292-cbf61250c31a')\"\n",
              "            title=\"Suggest charts.\"\n",
              "            style=\"display:none;\">\n",
              "\n",
              "<svg xmlns=\"http://www.w3.org/2000/svg\" height=\"24px\"viewBox=\"0 0 24 24\"\n",
              "     width=\"24px\">\n",
              "    <g>\n",
              "        <path d=\"M19 3H5c-1.1 0-2 .9-2 2v14c0 1.1.9 2 2 2h14c1.1 0 2-.9 2-2V5c0-1.1-.9-2-2-2zM9 17H7v-7h2v7zm4 0h-2V7h2v10zm4 0h-2v-4h2v4z\"/>\n",
              "    </g>\n",
              "</svg>\n",
              "  </button>\n",
              "\n",
              "<style>\n",
              "  .colab-df-quickchart {\n",
              "    background-color: #E8F0FE;\n",
              "    border: none;\n",
              "    border-radius: 50%;\n",
              "    cursor: pointer;\n",
              "    display: none;\n",
              "    fill: #1967D2;\n",
              "    height: 32px;\n",
              "    padding: 0 0 0 0;\n",
              "    width: 32px;\n",
              "  }\n",
              "\n",
              "  .colab-df-quickchart:hover {\n",
              "    background-color: #E2EBFA;\n",
              "    box-shadow: 0px 1px 2px rgba(60, 64, 67, 0.3), 0px 1px 3px 1px rgba(60, 64, 67, 0.15);\n",
              "    fill: #174EA6;\n",
              "  }\n",
              "\n",
              "  [theme=dark] .colab-df-quickchart {\n",
              "    background-color: #3B4455;\n",
              "    fill: #D2E3FC;\n",
              "  }\n",
              "\n",
              "  [theme=dark] .colab-df-quickchart:hover {\n",
              "    background-color: #434B5C;\n",
              "    box-shadow: 0px 1px 3px 1px rgba(0, 0, 0, 0.15);\n",
              "    filter: drop-shadow(0px 1px 2px rgba(0, 0, 0, 0.3));\n",
              "    fill: #FFFFFF;\n",
              "  }\n",
              "</style>\n",
              "\n",
              "  <script>\n",
              "    async function quickchart(key) {\n",
              "      const charts = await google.colab.kernel.invokeFunction(\n",
              "          'suggestCharts', [key], {});\n",
              "    }\n",
              "    (() => {\n",
              "      let quickchartButtonEl =\n",
              "        document.querySelector('#df-7de1c763-1eb8-4c43-a292-cbf61250c31a button');\n",
              "      quickchartButtonEl.style.display =\n",
              "        google.colab.kernel.accessAllowed ? 'block' : 'none';\n",
              "    })();\n",
              "  </script>\n",
              "</div>\n",
              "    </div>\n",
              "  </div>\n"
            ]
          },
          "metadata": {},
          "execution_count": 8
        }
      ],
      "source": [
        "selected_columns = [\n",
        "    \"id\",\n",
        "    \"purpose\",\n",
        "    \"term\",\n",
        "    \"verification_status\",\n",
        "    \"acc_now_delinq\",\n",
        "    \"addr_state\",\n",
        "    \"annual_inc\",\n",
        "    \"application_type\",\n",
        "    \"dti\",\n",
        "    \"grade\",\n",
        "    \"home_ownership\",\n",
        "    \"initial_list_status\",\n",
        "    \"installment\",\n",
        "    \"int_rate\",\n",
        "    \"loan_amnt\",\n",
        "    \"loan_status\"\n",
        "]\n",
        "\n",
        "df = spark.read.csv('/content/dataset/accepted_2007_to_2018q4.csv', header=True).select(selected_columns)\n",
        "df.limit(5).toPandas()"
      ]
    },
    {
      "cell_type": "markdown",
      "metadata": {
        "id": "yjvOsUcA8tmS"
      },
      "source": [
        "# EDA"
      ]
    },
    {
      "cell_type": "markdown",
      "metadata": {
        "id": "RL7Gfqnx8gIw"
      },
      "source": [
        "## Missing values"
      ]
    },
    {
      "cell_type": "code",
      "execution_count": 9,
      "metadata": {
        "id": "O6VQKo221PYQ",
        "colab": {
          "base_uri": "https://localhost:8080/"
        },
        "outputId": "f4396ee0-2e08-4d2f-f538-c76d2388ca1d"
      },
      "outputs": [
        {
          "output_type": "stream",
          "name": "stdout",
          "text": [
            "+---+-------+----+-------------------+--------------+----------+----------+----------------+----+-----+--------------+-------------------+-----------+--------+---------+-----------+\n",
            "| id|purpose|term|verification_status|acc_now_delinq|addr_state|annual_inc|application_type| dti|grade|home_ownership|initial_list_status|installment|int_rate|loan_amnt|loan_status|\n",
            "+---+-------+----+-------------------+--------------+----------+----------+----------------+----+-----+--------------+-------------------+-----------+--------+---------+-----------+\n",
            "|  0|     34|  33|                 33|           221|        34|        37|              88|1745|   33|            33|                 50|         33|      33|       33|         33|\n",
            "+---+-------+----+-------------------+--------------+----------+----------+----------------+----+-----+--------------+-------------------+-----------+--------+---------+-----------+\n",
            "\n"
          ]
        }
      ],
      "source": [
        "null_counts = df.agg(*[count(when(isnan(c) | col(c).isNull(), c)).alias(c) for c in df.columns])\n",
        "null_counts.show()"
      ]
    },
    {
      "cell_type": "code",
      "execution_count": 10,
      "metadata": {
        "id": "HESILoC92MIq"
      },
      "outputs": [],
      "source": [
        "df = df.na.drop()"
      ]
    },
    {
      "cell_type": "markdown",
      "source": [
        "## 'purpose'"
      ],
      "metadata": {
        "id": "7zrfZZQhln7w"
      }
    },
    {
      "cell_type": "code",
      "execution_count": 11,
      "metadata": {
        "id": "N3n_zkgMPKfe",
        "colab": {
          "base_uri": "https://localhost:8080/"
        },
        "outputId": "e2f9c08a-815f-4ca4-9230-3811f47a0284"
      },
      "outputs": [
        {
          "output_type": "stream",
          "name": "stdout",
          "text": [
            "+--------------------+-------+\n",
            "|             purpose|  count|\n",
            "+--------------------+-------+\n",
            "|             wedding|   2351|\n",
            "|               other| 139278|\n",
            "|      small_business|  24642|\n",
            "|  debt_consolidation|1276794|\n",
            "|         credit_card| 516592|\n",
            "|              moving|  15371|\n",
            "|            vacation|  15520|\n",
            "|    renewable_energy|   1444|\n",
            "|               house|  14120|\n",
            "|                 car|  23998|\n",
            "|      major_purchase|  50400|\n",
            "|             medical|  27453|\n",
            "|    home_improvement| 150297|\n",
            "|         educational|    412|\n",
            "| which is $250 a ...|      1|\n",
            "| so that our comp...|      1|\n",
            "| progressive mult...|      1|\n",
            "| and extremely se...|      1|\n",
            "| on one of the bu...|      1|\n",
            "| my monthly budge...|      1|\n",
            "+--------------------+-------+\n",
            "only showing top 20 rows\n",
            "\n"
          ]
        }
      ],
      "source": [
        "df_with_count = df.groupBy('purpose').count()\n",
        "df_with_count.show()"
      ]
    },
    {
      "cell_type": "code",
      "source": [
        "# Replacing values in the 'purpose' column based on the 'count' column condition\n",
        "# If 'count' is less than 300, set 'purpose' to \"other\", else keep the original 'purpose'\n",
        "\n",
        "df = df\\\n",
        ".join(df_with_count, on='purpose', how='left')\\\n",
        ".withColumn(\"purpose\", when(col(\"count\") < 300, \"other\").otherwise(col(\"purpose\")))\\\n",
        ".drop('count')"
      ],
      "metadata": {
        "id": "xi8eqFc4lt0F"
      },
      "execution_count": 12,
      "outputs": []
    },
    {
      "cell_type": "code",
      "source": [
        "unique_purposes = df.select(\"purpose\").distinct()\n",
        "unique_purposes.show()"
      ],
      "metadata": {
        "id": "8kUa_Ew-luO8",
        "colab": {
          "base_uri": "https://localhost:8080/"
        },
        "outputId": "ebbe52d3-4b96-447e-ae6d-a449c654dbb2"
      },
      "execution_count": 13,
      "outputs": [
        {
          "output_type": "stream",
          "name": "stdout",
          "text": [
            "+------------------+\n",
            "|           purpose|\n",
            "+------------------+\n",
            "|           wedding|\n",
            "|       educational|\n",
            "|             other|\n",
            "|    small_business|\n",
            "|debt_consolidation|\n",
            "|       credit_card|\n",
            "|            moving|\n",
            "|          vacation|\n",
            "|  renewable_energy|\n",
            "|             house|\n",
            "|               car|\n",
            "|    major_purchase|\n",
            "|           medical|\n",
            "|  home_improvement|\n",
            "+------------------+\n",
            "\n"
          ]
        }
      ]
    },
    {
      "cell_type": "markdown",
      "metadata": {
        "id": "rqrvS7vX2O17"
      },
      "source": [
        "## 'term'"
      ]
    },
    {
      "cell_type": "code",
      "execution_count": 14,
      "metadata": {
        "id": "mXmdkDdr2EeO",
        "colab": {
          "base_uri": "https://localhost:8080/"
        },
        "outputId": "60571493-bca7-4562-9273-faf26a907eb4"
      },
      "outputs": [
        {
          "output_type": "stream",
          "name": "stdout",
          "text": [
            "+----------+-------+\n",
            "|      term|  count|\n",
            "+----------+-------+\n",
            "| 36 months|1608560|\n",
            "| 60 months| 650198|\n",
            "+----------+-------+\n",
            "\n"
          ]
        }
      ],
      "source": [
        "df.groupby('term').count()\\\n",
        ".show()"
      ]
    },
    {
      "cell_type": "code",
      "execution_count": 15,
      "metadata": {
        "id": "QweSkKSi2zS-"
      },
      "outputs": [],
      "source": [
        "# Applying a regular expression to extract numbers from the 'term' column and then casting it to the Integer data type.\n",
        "\n",
        "df = df\\\n",
        ".withColumn(\"term\", regexp_extract(col(\"term\"), r'(\\d+)', 0).cast(\"int\"))"
      ]
    },
    {
      "cell_type": "markdown",
      "metadata": {
        "id": "rjpBkNWt2b_0"
      },
      "source": [
        "## 'verification_status'"
      ]
    },
    {
      "cell_type": "code",
      "execution_count": 16,
      "metadata": {
        "id": "vb8alLe42bcN",
        "colab": {
          "base_uri": "https://localhost:8080/"
        },
        "outputId": "1898c209-6367-4e49-a549-f87e96f8f9d3"
      },
      "outputs": [
        {
          "output_type": "stream",
          "name": "stdout",
          "text": [
            "+-------------------+------+\n",
            "|verification_status| count|\n",
            "+-------------------+------+\n",
            "|           Verified|629413|\n",
            "|    Source Verified|886153|\n",
            "|       Not Verified|743192|\n",
            "+-------------------+------+\n",
            "\n"
          ]
        }
      ],
      "source": [
        "df.groupby('verification_status').count()\\\n",
        ".show()"
      ]
    },
    {
      "cell_type": "code",
      "execution_count": 17,
      "metadata": {
        "id": "iVvbM1Wo3Ne5"
      },
      "outputs": [],
      "source": [
        "# Encode 'verification_status' column values into a new column 'verification_status_encoded'\n",
        "# If 'verification_status' is either \"Verified\" or \"Source Verified\", set 'verification_status_encoded' to 0\n",
        "# Otherwise, set it to 1\n",
        "\n",
        "df = df\\\n",
        ".withColumn(\"verification_status_encoded\",\n",
        "            when(col(\"verification_status\")\n",
        "                 .isin([\"Verified\", \"Source Verified\"]),0)\n",
        "            .otherwise(1))\\\n",
        ".drop(\"verification_status\")"
      ]
    },
    {
      "cell_type": "markdown",
      "metadata": {
        "id": "07zfzqAn3UP4"
      },
      "source": [
        "## 'acc_now_delinq'\n"
      ]
    },
    {
      "cell_type": "code",
      "execution_count": 18,
      "metadata": {
        "id": "5aWngWk53Z-t",
        "colab": {
          "base_uri": "https://localhost:8080/"
        },
        "outputId": "7042c544-faae-42bf-da73-155dbb3eae80"
      },
      "outputs": [
        {
          "output_type": "stream",
          "name": "stdout",
          "text": [
            "+--------------+-------+\n",
            "|acc_now_delinq|  count|\n",
            "+--------------+-------+\n",
            "|           1.0|   8307|\n",
            "|           0.0|2249899|\n",
            "|           5.0|      3|\n",
            "|           4.0|     11|\n",
            "|           2.0|    421|\n",
            "|           3.0|     50|\n",
            "|          14.0|      1|\n",
            "|           6.0|      2|\n",
            "|           7.0|      1|\n",
            "|         705.0|      1|\n",
            "|         654.0|      1|\n",
            "|             f|      2|\n",
            "|    Individual|     22|\n",
            "|      Jul-2016|      1|\n",
            "|         534.0|      1|\n",
            "|      Feb-2013|      2|\n",
            "|        439.64|      1|\n",
            "|        300.16|      1|\n",
            "|         755.0|      1|\n",
            "|      Mar-2012|      1|\n",
            "+--------------+-------+\n",
            "only showing top 20 rows\n",
            "\n"
          ]
        }
      ],
      "source": [
        "df.groupby('acc_now_delinq').count()\\\n",
        ".show()"
      ]
    },
    {
      "cell_type": "code",
      "execution_count": 19,
      "metadata": {
        "id": "Y0DZ_-yo5jIv"
      },
      "outputs": [],
      "source": [
        "# Define the valid values for 'acc_now_delinq'\n",
        "valid_values = [0, 1, 2, 3, 4, 5, 6, 7, 8, 9, 10]\n",
        "\n",
        "# Modify the 'acc_now_delinq' column:\n",
        "# 1. Cast the column to IntegerType\n",
        "# 2. Set values greater than or equal to 4 to 4, and keep other valid values as they are\n",
        "df = df.withColumn('acc_now_delinq', col('acc_now_delinq').cast('int')) \\\n",
        "       .withColumn('acc_now_delinq', when(col('acc_now_delinq') >= 4, 4).otherwise(col('acc_now_delinq'))) \\\n",
        "       .filter(col('acc_now_delinq').isin(valid_values))"
      ]
    },
    {
      "cell_type": "code",
      "execution_count": 20,
      "metadata": {
        "id": "6LA6GJCV5kxp",
        "colab": {
          "base_uri": "https://localhost:8080/"
        },
        "outputId": "e3982e73-bff1-43dd-989f-26e28a4916c6"
      },
      "outputs": [
        {
          "output_type": "stream",
          "name": "stdout",
          "text": [
            "+--------------+-------+\n",
            "|acc_now_delinq|  count|\n",
            "+--------------+-------+\n",
            "|             1|   8307|\n",
            "|             3|     50|\n",
            "|             4|     49|\n",
            "|             2|    421|\n",
            "|             0|2249899|\n",
            "+--------------+-------+\n",
            "\n"
          ]
        }
      ],
      "source": [
        "df.groupby('acc_now_delinq').count()\\\n",
        ".show()"
      ]
    },
    {
      "cell_type": "markdown",
      "metadata": {
        "id": "XUkTNMgy6jCw"
      },
      "source": [
        "## 'application_type'"
      ]
    },
    {
      "cell_type": "code",
      "execution_count": 21,
      "metadata": {
        "id": "61QjUX8G6tlI",
        "colab": {
          "base_uri": "https://localhost:8080/"
        },
        "outputId": "c401d95f-8795-4876-9c04-2f453631297c"
      },
      "outputs": [
        {
          "output_type": "stream",
          "name": "stdout",
          "text": [
            "+------------------+-------+\n",
            "|  application_type|  count|\n",
            "+------------------+-------+\n",
            "|         Joint App| 118999|\n",
            "|        Individual|2139673|\n",
            "|          Apr-2013|      1|\n",
            "|             764.0|      1|\n",
            "|            202.59|      1|\n",
            "|            8336.9|      1|\n",
            "|               0.0|      5|\n",
            "|           1588.21|      1|\n",
            "|14067.080942648401|      1|\n",
            "|             779.0|      1|\n",
            "|             769.0|      1|\n",
            "|             659.0|      1|\n",
            "|          Apr-2012|      1|\n",
            "|             844.0|      1|\n",
            "|          Feb-2012|      1|\n",
            "|          Jan-2012|      1|\n",
            "|          May-2010|      1|\n",
            "|          Jul-2010|      1|\n",
            "| 8541.663712072801|      1|\n",
            "|          Feb-2011|      1|\n",
            "+------------------+-------+\n",
            "only showing top 20 rows\n",
            "\n"
          ]
        }
      ],
      "source": [
        "df.groupby('application_type').count()\\\n",
        ".show()"
      ]
    },
    {
      "cell_type": "code",
      "execution_count": 22,
      "metadata": {
        "id": "x8mYJ9mU7o7e"
      },
      "outputs": [],
      "source": [
        "# Define the valid values for 'application_type'\n",
        "valid_values = ['Joint App', 'Individual']\n",
        "\n",
        "# Modify the 'application_type' column:\n",
        "# 1. Map 'Joint App' to 0 and 'Individual' to 1\n",
        "# 2. Remove other values\n",
        "# 3. Cast the column to IntegerType\n",
        "\n",
        "df = df.withColumn('application_type',\n",
        "                   when(col('application_type') == 'Joint App', 0)\n",
        "                   .when(col('application_type') == 'Individual', 1)\n",
        "                   .otherwise(None))\n",
        "\n",
        "df = df.filter(col('application_type').isNotNull()).withColumn('application_type', col('application_type').cast('int'))"
      ]
    },
    {
      "cell_type": "markdown",
      "metadata": {
        "id": "nbxSkPES8xCX"
      },
      "source": [
        "## 'grade'"
      ]
    },
    {
      "cell_type": "code",
      "execution_count": 23,
      "metadata": {
        "id": "fs8JP6Wv80yB",
        "colab": {
          "base_uri": "https://localhost:8080/"
        },
        "outputId": "a9f43a56-b270-4e9c-8630-63e3a8a1e906"
      },
      "outputs": [
        {
          "output_type": "stream",
          "name": "stdout",
          "text": [
            "+-----+------+\n",
            "|grade| count|\n",
            "+-----+------+\n",
            "|    F| 41764|\n",
            "|    E|135516|\n",
            "|    B|663025|\n",
            "|    D|324054|\n",
            "|    C|649486|\n",
            "|    A|432681|\n",
            "|    G| 12146|\n",
            "+-----+------+\n",
            "\n"
          ]
        }
      ],
      "source": [
        "df.groupby('grade').count()\\\n",
        ".show()"
      ]
    },
    {
      "cell_type": "code",
      "execution_count": 24,
      "metadata": {
        "id": "239oUHSD9JW-"
      },
      "outputs": [],
      "source": [
        "# Create a StringIndexer to convert 'grade' column into numerical indices\n",
        "grade_indexer = StringIndexer(inputCol=\"grade\", outputCol=\"grade_index\", stringOrderType=\"alphabetAsc\")\n",
        "\n",
        "df = grade_indexer\\\n",
        ".fit(df)\\\n",
        ".transform(df)\\\n",
        ".drop('grade')"
      ]
    },
    {
      "cell_type": "markdown",
      "metadata": {
        "id": "7RLQ1YlyPFqr"
      },
      "source": [
        "## One Hot Encoder"
      ]
    },
    {
      "cell_type": "code",
      "execution_count": 25,
      "metadata": {
        "id": "_Wcob_NDPNk0"
      },
      "outputs": [],
      "source": [
        "columns_to_encode = ['purpose', 'addr_state', 'home_ownership', 'initial_list_status']\n",
        "\n",
        "for column in columns_to_encode:\n",
        "    df = one_hot_encode_column(df, column)"
      ]
    },
    {
      "cell_type": "markdown",
      "metadata": {
        "id": "wTQdefPB_7zo"
      },
      "source": [
        "## 'installment',\t'int_rate',\t'loan_amnt', 'annual_inc', 'dti'"
      ]
    },
    {
      "cell_type": "code",
      "execution_count": 26,
      "metadata": {
        "id": "oWVG27mk_687"
      },
      "outputs": [],
      "source": [
        "# Modify data types of specific columns to float/int\n",
        "\n",
        "df = df\\\n",
        ".withColumn('installment', col('installment').cast('float'))\\\n",
        ".withColumn('int_rate', col('int_rate').cast('float'))\\\n",
        ".withColumn('loan_amnt', col('loan_amnt').cast('float'))\\\n",
        ".withColumn('annual_inc', col('annual_inc').cast('int'))\\\n",
        ".withColumn('dti', col('dti').cast('int'))"
      ]
    },
    {
      "cell_type": "code",
      "execution_count": 27,
      "metadata": {
        "id": "I-m78wv6BBdI",
        "colab": {
          "base_uri": "https://localhost:8080/"
        },
        "outputId": "c0761b88-f23a-415b-ea9a-e3a536e48694"
      },
      "outputs": [
        {
          "output_type": "execute_result",
          "data": {
            "text/plain": [
              "[('id', 'string'),\n",
              " ('term', 'int'),\n",
              " ('acc_now_delinq', 'int'),\n",
              " ('annual_inc', 'int'),\n",
              " ('application_type', 'int'),\n",
              " ('dti', 'int'),\n",
              " ('installment', 'float'),\n",
              " ('int_rate', 'float'),\n",
              " ('loan_amnt', 'float'),\n",
              " ('loan_status', 'string'),\n",
              " ('verification_status_encoded', 'int'),\n",
              " ('grade_index', 'double'),\n",
              " ('purpose_encoded', 'vector'),\n",
              " ('addr_state_encoded', 'vector'),\n",
              " ('home_ownership_encoded', 'vector'),\n",
              " ('initial_list_status_encoded', 'vector')]"
            ]
          },
          "metadata": {},
          "execution_count": 27
        }
      ],
      "source": [
        "df.dtypes"
      ]
    },
    {
      "cell_type": "code",
      "execution_count": 28,
      "metadata": {
        "id": "a4L3DkQTAXuN",
        "colab": {
          "base_uri": "https://localhost:8080/",
          "height": 268
        },
        "outputId": "4e50ed16-413c-4a4c-9d1b-9ac12bc9eeb9"
      },
      "outputs": [
        {
          "output_type": "execute_result",
          "data": {
            "text/plain": [
              "         id  term  acc_now_delinq  annual_inc  application_type  dti  \\\n",
              "0    777172    36               0       32000                 1   17   \n",
              "1  68338832    36               0       64000                 1   34   \n",
              "2  68407301    60               0      195000                 1    6   \n",
              "\n",
              "   installment  int_rate  loan_amnt loan_status  verification_status_encoded  \\\n",
              "0   169.270004     13.33     5000.0  Fully Paid                            0   \n",
              "1    47.099998     12.88     1400.0  Fully Paid                            1   \n",
              "2   652.059998     14.85    27500.0  Fully Paid                            1   \n",
              "\n",
              "   grade_index                                    purpose_encoded  \\\n",
              "0          2.0  (0.0, 0.0, 0.0, 0.0, 0.0, 0.0, 0.0, 0.0, 0.0, ...   \n",
              "1          2.0  (0.0, 0.0, 0.0, 1.0, 0.0, 0.0, 0.0, 0.0, 0.0, ...   \n",
              "2          2.0  (0.0, 0.0, 0.0, 1.0, 0.0, 0.0, 0.0, 0.0, 0.0, ...   \n",
              "\n",
              "                                  addr_state_encoded  \\\n",
              "0  (0.0, 0.0, 0.0, 0.0, 0.0, 0.0, 0.0, 0.0, 0.0, ...   \n",
              "1  (0.0, 0.0, 0.0, 0.0, 0.0, 0.0, 0.0, 0.0, 0.0, ...   \n",
              "2  (0.0, 0.0, 0.0, 0.0, 0.0, 0.0, 0.0, 0.0, 0.0, ...   \n",
              "\n",
              "      home_ownership_encoded initial_list_status_encoded  \n",
              "0  (1.0, 0.0, 0.0, 0.0, 0.0)                       (1.0)  \n",
              "1  (1.0, 0.0, 0.0, 0.0, 0.0)                       (1.0)  \n",
              "2  (1.0, 0.0, 0.0, 0.0, 0.0)                       (1.0)  "
            ],
            "text/html": [
              "\n",
              "  <div id=\"df-207dd2d9-e534-4b37-85e0-08aa2263d507\" class=\"colab-df-container\">\n",
              "    <div>\n",
              "<style scoped>\n",
              "    .dataframe tbody tr th:only-of-type {\n",
              "        vertical-align: middle;\n",
              "    }\n",
              "\n",
              "    .dataframe tbody tr th {\n",
              "        vertical-align: top;\n",
              "    }\n",
              "\n",
              "    .dataframe thead th {\n",
              "        text-align: right;\n",
              "    }\n",
              "</style>\n",
              "<table border=\"1\" class=\"dataframe\">\n",
              "  <thead>\n",
              "    <tr style=\"text-align: right;\">\n",
              "      <th></th>\n",
              "      <th>id</th>\n",
              "      <th>term</th>\n",
              "      <th>acc_now_delinq</th>\n",
              "      <th>annual_inc</th>\n",
              "      <th>application_type</th>\n",
              "      <th>dti</th>\n",
              "      <th>installment</th>\n",
              "      <th>int_rate</th>\n",
              "      <th>loan_amnt</th>\n",
              "      <th>loan_status</th>\n",
              "      <th>verification_status_encoded</th>\n",
              "      <th>grade_index</th>\n",
              "      <th>purpose_encoded</th>\n",
              "      <th>addr_state_encoded</th>\n",
              "      <th>home_ownership_encoded</th>\n",
              "      <th>initial_list_status_encoded</th>\n",
              "    </tr>\n",
              "  </thead>\n",
              "  <tbody>\n",
              "    <tr>\n",
              "      <th>0</th>\n",
              "      <td>777172</td>\n",
              "      <td>36</td>\n",
              "      <td>0</td>\n",
              "      <td>32000</td>\n",
              "      <td>1</td>\n",
              "      <td>17</td>\n",
              "      <td>169.270004</td>\n",
              "      <td>13.33</td>\n",
              "      <td>5000.0</td>\n",
              "      <td>Fully Paid</td>\n",
              "      <td>0</td>\n",
              "      <td>2.0</td>\n",
              "      <td>(0.0, 0.0, 0.0, 0.0, 0.0, 0.0, 0.0, 0.0, 0.0, ...</td>\n",
              "      <td>(0.0, 0.0, 0.0, 0.0, 0.0, 0.0, 0.0, 0.0, 0.0, ...</td>\n",
              "      <td>(1.0, 0.0, 0.0, 0.0, 0.0)</td>\n",
              "      <td>(1.0)</td>\n",
              "    </tr>\n",
              "    <tr>\n",
              "      <th>1</th>\n",
              "      <td>68338832</td>\n",
              "      <td>36</td>\n",
              "      <td>0</td>\n",
              "      <td>64000</td>\n",
              "      <td>1</td>\n",
              "      <td>34</td>\n",
              "      <td>47.099998</td>\n",
              "      <td>12.88</td>\n",
              "      <td>1400.0</td>\n",
              "      <td>Fully Paid</td>\n",
              "      <td>1</td>\n",
              "      <td>2.0</td>\n",
              "      <td>(0.0, 0.0, 0.0, 1.0, 0.0, 0.0, 0.0, 0.0, 0.0, ...</td>\n",
              "      <td>(0.0, 0.0, 0.0, 0.0, 0.0, 0.0, 0.0, 0.0, 0.0, ...</td>\n",
              "      <td>(1.0, 0.0, 0.0, 0.0, 0.0)</td>\n",
              "      <td>(1.0)</td>\n",
              "    </tr>\n",
              "    <tr>\n",
              "      <th>2</th>\n",
              "      <td>68407301</td>\n",
              "      <td>60</td>\n",
              "      <td>0</td>\n",
              "      <td>195000</td>\n",
              "      <td>1</td>\n",
              "      <td>6</td>\n",
              "      <td>652.059998</td>\n",
              "      <td>14.85</td>\n",
              "      <td>27500.0</td>\n",
              "      <td>Fully Paid</td>\n",
              "      <td>1</td>\n",
              "      <td>2.0</td>\n",
              "      <td>(0.0, 0.0, 0.0, 1.0, 0.0, 0.0, 0.0, 0.0, 0.0, ...</td>\n",
              "      <td>(0.0, 0.0, 0.0, 0.0, 0.0, 0.0, 0.0, 0.0, 0.0, ...</td>\n",
              "      <td>(1.0, 0.0, 0.0, 0.0, 0.0)</td>\n",
              "      <td>(1.0)</td>\n",
              "    </tr>\n",
              "  </tbody>\n",
              "</table>\n",
              "</div>\n",
              "    <div class=\"colab-df-buttons\">\n",
              "\n",
              "  <div class=\"colab-df-container\">\n",
              "    <button class=\"colab-df-convert\" onclick=\"convertToInteractive('df-207dd2d9-e534-4b37-85e0-08aa2263d507')\"\n",
              "            title=\"Convert this dataframe to an interactive table.\"\n",
              "            style=\"display:none;\">\n",
              "\n",
              "  <svg xmlns=\"http://www.w3.org/2000/svg\" height=\"24px\" viewBox=\"0 -960 960 960\">\n",
              "    <path d=\"M120-120v-720h720v720H120Zm60-500h600v-160H180v160Zm220 220h160v-160H400v160Zm0 220h160v-160H400v160ZM180-400h160v-160H180v160Zm440 0h160v-160H620v160ZM180-180h160v-160H180v160Zm440 0h160v-160H620v160Z\"/>\n",
              "  </svg>\n",
              "    </button>\n",
              "\n",
              "  <style>\n",
              "    .colab-df-container {\n",
              "      display:flex;\n",
              "      gap: 12px;\n",
              "    }\n",
              "\n",
              "    .colab-df-convert {\n",
              "      background-color: #E8F0FE;\n",
              "      border: none;\n",
              "      border-radius: 50%;\n",
              "      cursor: pointer;\n",
              "      display: none;\n",
              "      fill: #1967D2;\n",
              "      height: 32px;\n",
              "      padding: 0 0 0 0;\n",
              "      width: 32px;\n",
              "    }\n",
              "\n",
              "    .colab-df-convert:hover {\n",
              "      background-color: #E2EBFA;\n",
              "      box-shadow: 0px 1px 2px rgba(60, 64, 67, 0.3), 0px 1px 3px 1px rgba(60, 64, 67, 0.15);\n",
              "      fill: #174EA6;\n",
              "    }\n",
              "\n",
              "    .colab-df-buttons div {\n",
              "      margin-bottom: 4px;\n",
              "    }\n",
              "\n",
              "    [theme=dark] .colab-df-convert {\n",
              "      background-color: #3B4455;\n",
              "      fill: #D2E3FC;\n",
              "    }\n",
              "\n",
              "    [theme=dark] .colab-df-convert:hover {\n",
              "      background-color: #434B5C;\n",
              "      box-shadow: 0px 1px 3px 1px rgba(0, 0, 0, 0.15);\n",
              "      filter: drop-shadow(0px 1px 2px rgba(0, 0, 0, 0.3));\n",
              "      fill: #FFFFFF;\n",
              "    }\n",
              "  </style>\n",
              "\n",
              "    <script>\n",
              "      const buttonEl =\n",
              "        document.querySelector('#df-207dd2d9-e534-4b37-85e0-08aa2263d507 button.colab-df-convert');\n",
              "      buttonEl.style.display =\n",
              "        google.colab.kernel.accessAllowed ? 'block' : 'none';\n",
              "\n",
              "      async function convertToInteractive(key) {\n",
              "        const element = document.querySelector('#df-207dd2d9-e534-4b37-85e0-08aa2263d507');\n",
              "        const dataTable =\n",
              "          await google.colab.kernel.invokeFunction('convertToInteractive',\n",
              "                                                    [key], {});\n",
              "        if (!dataTable) return;\n",
              "\n",
              "        const docLinkHtml = 'Like what you see? Visit the ' +\n",
              "          '<a target=\"_blank\" href=https://colab.research.google.com/notebooks/data_table.ipynb>data table notebook</a>'\n",
              "          + ' to learn more about interactive tables.';\n",
              "        element.innerHTML = '';\n",
              "        dataTable['output_type'] = 'display_data';\n",
              "        await google.colab.output.renderOutput(dataTable, element);\n",
              "        const docLink = document.createElement('div');\n",
              "        docLink.innerHTML = docLinkHtml;\n",
              "        element.appendChild(docLink);\n",
              "      }\n",
              "    </script>\n",
              "  </div>\n",
              "\n",
              "\n",
              "<div id=\"df-5e11e85a-222f-44ba-a066-ee7e8b67dee0\">\n",
              "  <button class=\"colab-df-quickchart\" onclick=\"quickchart('df-5e11e85a-222f-44ba-a066-ee7e8b67dee0')\"\n",
              "            title=\"Suggest charts.\"\n",
              "            style=\"display:none;\">\n",
              "\n",
              "<svg xmlns=\"http://www.w3.org/2000/svg\" height=\"24px\"viewBox=\"0 0 24 24\"\n",
              "     width=\"24px\">\n",
              "    <g>\n",
              "        <path d=\"M19 3H5c-1.1 0-2 .9-2 2v14c0 1.1.9 2 2 2h14c1.1 0 2-.9 2-2V5c0-1.1-.9-2-2-2zM9 17H7v-7h2v7zm4 0h-2V7h2v10zm4 0h-2v-4h2v4z\"/>\n",
              "    </g>\n",
              "</svg>\n",
              "  </button>\n",
              "\n",
              "<style>\n",
              "  .colab-df-quickchart {\n",
              "    background-color: #E8F0FE;\n",
              "    border: none;\n",
              "    border-radius: 50%;\n",
              "    cursor: pointer;\n",
              "    display: none;\n",
              "    fill: #1967D2;\n",
              "    height: 32px;\n",
              "    padding: 0 0 0 0;\n",
              "    width: 32px;\n",
              "  }\n",
              "\n",
              "  .colab-df-quickchart:hover {\n",
              "    background-color: #E2EBFA;\n",
              "    box-shadow: 0px 1px 2px rgba(60, 64, 67, 0.3), 0px 1px 3px 1px rgba(60, 64, 67, 0.15);\n",
              "    fill: #174EA6;\n",
              "  }\n",
              "\n",
              "  [theme=dark] .colab-df-quickchart {\n",
              "    background-color: #3B4455;\n",
              "    fill: #D2E3FC;\n",
              "  }\n",
              "\n",
              "  [theme=dark] .colab-df-quickchart:hover {\n",
              "    background-color: #434B5C;\n",
              "    box-shadow: 0px 1px 3px 1px rgba(0, 0, 0, 0.15);\n",
              "    filter: drop-shadow(0px 1px 2px rgba(0, 0, 0, 0.3));\n",
              "    fill: #FFFFFF;\n",
              "  }\n",
              "</style>\n",
              "\n",
              "  <script>\n",
              "    async function quickchart(key) {\n",
              "      const charts = await google.colab.kernel.invokeFunction(\n",
              "          'suggestCharts', [key], {});\n",
              "    }\n",
              "    (() => {\n",
              "      let quickchartButtonEl =\n",
              "        document.querySelector('#df-5e11e85a-222f-44ba-a066-ee7e8b67dee0 button');\n",
              "      quickchartButtonEl.style.display =\n",
              "        google.colab.kernel.accessAllowed ? 'block' : 'none';\n",
              "    })();\n",
              "  </script>\n",
              "</div>\n",
              "    </div>\n",
              "  </div>\n"
            ]
          },
          "metadata": {},
          "execution_count": 28
        }
      ],
      "source": [
        "df.limit(3).toPandas()"
      ]
    },
    {
      "cell_type": "markdown",
      "metadata": {
        "id": "VmjDjoV2NzQU"
      },
      "source": [
        "## 'loan_status' -> target"
      ]
    },
    {
      "cell_type": "code",
      "execution_count": 29,
      "metadata": {
        "id": "J5qruiYKO6OT",
        "colab": {
          "base_uri": "https://localhost:8080/"
        },
        "outputId": "d155b886-398d-4ca6-f956-b411951898d3"
      },
      "outputs": [
        {
          "output_type": "stream",
          "name": "stdout",
          "text": [
            "+--------------------+-------+\n",
            "|         loan_status|  count|\n",
            "+--------------------+-------+\n",
            "|          Fully Paid|1076256|\n",
            "|             Default|     40|\n",
            "|     In Grace Period|   8427|\n",
            "|         Charged Off| 268453|\n",
            "|  Late (31-120 days)|  21443|\n",
            "|             Current| 877018|\n",
            "|   Late (16-30 days)|   4344|\n",
            "|Does not meet the...|   1943|\n",
            "|Does not meet the...|    748|\n",
            "+--------------------+-------+\n",
            "\n"
          ]
        }
      ],
      "source": [
        "df.groupby('loan_status').count()\\\n",
        ".show()"
      ]
    },
    {
      "cell_type": "code",
      "execution_count": 30,
      "metadata": {
        "id": "O444r9lJP_bk"
      },
      "outputs": [],
      "source": [
        "# encode 'loan_status' to 0 - fully paid, 1 - late, 2 - charged off\n",
        "df = df.withColumn(\"target\",\n",
        "                   when(col(\"loan_status\") == \"Fully Paid\", 0)\n",
        "                   .when((col(\"loan_status\") == \"Late (16-30 days)\") | (col(\"loan_status\") == \"Late (31-120 days)\") | (col(\"loan_status\") == \"In Grace Period\"), 1)\n",
        "                   .when((col(\"loan_status\") == \"Charged Off\") | (col(\"loan_status\") == 'Default'), 2)\n",
        "                   .otherwise(None))\\\n",
        ".drop(\"loan_status\")\n",
        "df = df.filter(df.target.isNotNull())"
      ]
    },
    {
      "cell_type": "code",
      "source": [
        "df.groupby('target').count()\\\n",
        ".show()"
      ],
      "metadata": {
        "id": "ry9f_DmB2LUD",
        "colab": {
          "base_uri": "https://localhost:8080/"
        },
        "outputId": "7eb51c86-b801-4a91-c605-ceab44087a1c"
      },
      "execution_count": 31,
      "outputs": [
        {
          "output_type": "stream",
          "name": "stdout",
          "text": [
            "+------+-------+\n",
            "|target|  count|\n",
            "+------+-------+\n",
            "|     1|  34214|\n",
            "|     2| 268493|\n",
            "|     0|1076256|\n",
            "+------+-------+\n",
            "\n"
          ]
        }
      ]
    },
    {
      "cell_type": "markdown",
      "metadata": {
        "id": "MQuj_IuruiM_"
      },
      "source": [
        "# Downsampling\n",
        "By applying undersampling on Class 0, I can achieve a more balanced dataset where all classes have comparable representation. This can help improve the performance of machine learning models, as they will be trained on a more representative dataset."
      ]
    },
    {
      "cell_type": "code",
      "execution_count": 32,
      "metadata": {
        "id": "1Chm5HU9LM9a"
      },
      "outputs": [],
      "source": [
        "df = df.drop('id')"
      ]
    },
    {
      "cell_type": "code",
      "execution_count": 33,
      "metadata": {
        "id": "1xWReGZDvo-C"
      },
      "outputs": [],
      "source": [
        "df_downsampled = df.filter(col(\"target\") == 0).sampleBy(\"target\", fractions={0: 0.3}).unionAll(df.filter(col(\"target\") != 0))\n",
        "df_downsampled = df_downsampled.na.drop()"
      ]
    },
    {
      "cell_type": "code",
      "source": [
        "# Original dataset\n",
        "loan_status_count_original = df.groupby('target').count().toPandas()\n",
        "\n",
        "plt.figure(figsize=(15, 6))\n",
        "\n",
        "# Subplot 1 - Target Distribution before downsampling\n",
        "plt.subplot(1, 3, 1)\n",
        "plt.pie(loan_status_count_original['count'], labels=loan_status_count_original['target'], autopct='%1.1f%%')\n",
        "plt.title('Target Distribution - Original Dataset')\n",
        "\n",
        "# Downsampled dataset\n",
        "loan_status_count_downsampled = df_downsampled.groupby('target').count().toPandas()\n",
        "\n",
        "# Subplot 2 - Target Distribution after downsampling\n",
        "plt.subplot(1, 3, 2)\n",
        "plt.pie(loan_status_count_downsampled['count'], labels=loan_status_count_downsampled['target'], autopct='%1.1f%%')\n",
        "plt.title('Target Distribution - After Downsampling')\n",
        "\n",
        "plt.show()"
      ],
      "metadata": {
        "id": "6sTfEgPiUIfD",
        "colab": {
          "base_uri": "https://localhost:8080/",
          "height": 401
        },
        "outputId": "0cd06b7c-e42d-4749-9151-bf7d5e304ffd"
      },
      "execution_count": null,
      "outputs": [
        {
          "output_type": "display_data",
          "data": {
            "text/plain": [
              "<Figure size 1500x600 with 2 Axes>"
            ],
            "image/png": "[encoded data removed]"
          },
          "metadata": {}
        }
      ]
    },
    {
      "cell_type": "code",
      "source": [
        "df_downsampled.groupby('target').count()\\\n",
        ".show()"
      ],
      "metadata": {
        "colab": {
          "base_uri": "https://localhost:8080/"
        },
        "id": "D0JnCcS6J9nm",
        "outputId": "b73bc086-5d73-4ec1-d4bf-dd362e87039f"
      },
      "execution_count": 41,
      "outputs": [
        {
          "output_type": "stream",
          "name": "stdout",
          "text": [
            "+------+------+\n",
            "|target| count|\n",
            "+------+------+\n",
            "|     0|323258|\n",
            "|     1| 34214|\n",
            "|     2|268493|\n",
            "+------+------+\n",
            "\n"
          ]
        }
      ]
    },
    {
      "cell_type": "markdown",
      "metadata": {
        "id": "N0ow2ehoYl8t"
      },
      "source": [
        "# VectorAssembler"
      ]
    },
    {
      "cell_type": "code",
      "execution_count": null,
      "metadata": {
        "id": "nmmd0nq8pwI-",
        "colab": {
          "base_uri": "https://localhost:8080/",
          "height": 268
        },
        "outputId": "e3be2ea6-f3bf-4747-8057-b898a3c7f3c6"
      },
      "outputs": [
        {
          "output_type": "execute_result",
          "data": {
            "text/plain": [
              "   term  acc_now_delinq  annual_inc  application_type  dti  installment  \\\n",
              "0    36               0       32000                 1   17   169.270004   \n",
              "1    36               0       32000                 1   31   143.529999   \n",
              "2    36               0      140000                 1    6    63.130001   \n",
              "\n",
              "   int_rate  loan_amnt                                    purpose_encoded  \\\n",
              "0     13.33     5000.0  (0.0, 0.0, 0.0, 0.0, 0.0, 0.0, 0.0, 0.0, 0.0, ...   \n",
              "1     13.99     4200.0  (0.0, 0.0, 0.0, 1.0, 0.0, 0.0, 0.0, 0.0, 0.0, ...   \n",
              "2      8.49     2000.0  (0.0, 0.0, 0.0, 1.0, 0.0, 0.0, 0.0, 0.0, 0.0, ...   \n",
              "\n",
              "                                  addr_state_encoded  \\\n",
              "0  (0.0, 0.0, 0.0, 0.0, 0.0, 0.0, 0.0, 0.0, 0.0, ...   \n",
              "1  (0.0, 0.0, 0.0, 0.0, 0.0, 0.0, 0.0, 0.0, 0.0, ...   \n",
              "2  (0.0, 0.0, 0.0, 0.0, 0.0, 0.0, 0.0, 0.0, 0.0, ...   \n",
              "\n",
              "      home_ownership_encoded  verification_status_encoded  grade_index  \\\n",
              "0  (1.0, 0.0, 0.0, 0.0, 0.0)                            0          2.0   \n",
              "1  (0.0, 1.0, 0.0, 0.0, 0.0)                            0          2.0   \n",
              "2  (1.0, 0.0, 0.0, 0.0, 0.0)                            0          1.0   \n",
              "\n",
              "   initial_list_status_encoded  target  \n",
              "0                            1       0  \n",
              "1                            1       0  \n",
              "2                            1       0  "
            ],
            "text/html": [
              "\n",
              "  <div id=\"df-5550b209-b316-4ca2-ba66-defa854bbec3\" class=\"colab-df-container\">\n",
              "    <div>\n",
              "<style scoped>\n",
              "    .dataframe tbody tr th:only-of-type {\n",
              "        vertical-align: middle;\n",
              "    }\n",
              "\n",
              "    .dataframe tbody tr th {\n",
              "        vertical-align: top;\n",
              "    }\n",
              "\n",
              "    .dataframe thead th {\n",
              "        text-align: right;\n",
              "    }\n",
              "</style>\n",
              "<table border=\"1\" class=\"dataframe\">\n",
              "  <thead>\n",
              "    <tr style=\"text-align: right;\">\n",
              "      <th></th>\n",
              "      <th>term</th>\n",
              "      <th>acc_now_delinq</th>\n",
              "      <th>annual_inc</th>\n",
              "      <th>application_type</th>\n",
              "      <th>dti</th>\n",
              "      <th>installment</th>\n",
              "      <th>int_rate</th>\n",
              "      <th>loan_amnt</th>\n",
              "      <th>purpose_encoded</th>\n",
              "      <th>addr_state_encoded</th>\n",
              "      <th>home_ownership_encoded</th>\n",
              "      <th>verification_status_encoded</th>\n",
              "      <th>grade_index</th>\n",
              "      <th>initial_list_status_encoded</th>\n",
              "      <th>target</th>\n",
              "    </tr>\n",
              "  </thead>\n",
              "  <tbody>\n",
              "    <tr>\n",
              "      <th>0</th>\n",
              "      <td>36</td>\n",
              "      <td>0</td>\n",
              "      <td>32000</td>\n",
              "      <td>1</td>\n",
              "      <td>17</td>\n",
              "      <td>169.270004</td>\n",
              "      <td>13.33</td>\n",
              "      <td>5000.0</td>\n",
              "      <td>(0.0, 0.0, 0.0, 0.0, 0.0, 0.0, 0.0, 0.0, 0.0, ...</td>\n",
              "      <td>(0.0, 0.0, 0.0, 0.0, 0.0, 0.0, 0.0, 0.0, 0.0, ...</td>\n",
              "      <td>(1.0, 0.0, 0.0, 0.0, 0.0)</td>\n",
              "      <td>0</td>\n",
              "      <td>2.0</td>\n",
              "      <td>1</td>\n",
              "      <td>0</td>\n",
              "    </tr>\n",
              "    <tr>\n",
              "      <th>1</th>\n",
              "      <td>36</td>\n",
              "      <td>0</td>\n",
              "      <td>32000</td>\n",
              "      <td>1</td>\n",
              "      <td>31</td>\n",
              "      <td>143.529999</td>\n",
              "      <td>13.99</td>\n",
              "      <td>4200.0</td>\n",
              "      <td>(0.0, 0.0, 0.0, 1.0, 0.0, 0.0, 0.0, 0.0, 0.0, ...</td>\n",
              "      <td>(0.0, 0.0, 0.0, 0.0, 0.0, 0.0, 0.0, 0.0, 0.0, ...</td>\n",
              "      <td>(0.0, 1.0, 0.0, 0.0, 0.0)</td>\n",
              "      <td>0</td>\n",
              "      <td>2.0</td>\n",
              "      <td>1</td>\n",
              "      <td>0</td>\n",
              "    </tr>\n",
              "    <tr>\n",
              "      <th>2</th>\n",
              "      <td>36</td>\n",
              "      <td>0</td>\n",
              "      <td>140000</td>\n",
              "      <td>1</td>\n",
              "      <td>6</td>\n",
              "      <td>63.130001</td>\n",
              "      <td>8.49</td>\n",
              "      <td>2000.0</td>\n",
              "      <td>(0.0, 0.0, 0.0, 1.0, 0.0, 0.0, 0.0, 0.0, 0.0, ...</td>\n",
              "      <td>(0.0, 0.0, 0.0, 0.0, 0.0, 0.0, 0.0, 0.0, 0.0, ...</td>\n",
              "      <td>(1.0, 0.0, 0.0, 0.0, 0.0)</td>\n",
              "      <td>0</td>\n",
              "      <td>1.0</td>\n",
              "      <td>1</td>\n",
              "      <td>0</td>\n",
              "    </tr>\n",
              "  </tbody>\n",
              "</table>\n",
              "</div>\n",
              "    <div class=\"colab-df-buttons\">\n",
              "\n",
              "  <div class=\"colab-df-container\">\n",
              "    <button class=\"colab-df-convert\" onclick=\"convertToInteractive('df-5550b209-b316-4ca2-ba66-defa854bbec3')\"\n",
              "            title=\"Convert this dataframe to an interactive table.\"\n",
              "            style=\"display:none;\">\n",
              "\n",
              "  <svg xmlns=\"http://www.w3.org/2000/svg\" height=\"24px\" viewBox=\"0 -960 960 960\">\n",
              "    <path d=\"M120-120v-720h720v720H120Zm60-500h600v-160H180v160Zm220 220h160v-160H400v160Zm0 220h160v-160H400v160ZM180-400h160v-160H180v160Zm440 0h160v-160H620v160ZM180-180h160v-160H180v160Zm440 0h160v-160H620v160Z\"/>\n",
              "  </svg>\n",
              "    </button>\n",
              "\n",
              "  <style>\n",
              "    .colab-df-container {\n",
              "      display:flex;\n",
              "      gap: 12px;\n",
              "    }\n",
              "\n",
              "    .colab-df-convert {\n",
              "      background-color: #E8F0FE;\n",
              "      border: none;\n",
              "      border-radius: 50%;\n",
              "      cursor: pointer;\n",
              "      display: none;\n",
              "      fill: #1967D2;\n",
              "      height: 32px;\n",
              "      padding: 0 0 0 0;\n",
              "      width: 32px;\n",
              "    }\n",
              "\n",
              "    .colab-df-convert:hover {\n",
              "      background-color: #E2EBFA;\n",
              "      box-shadow: 0px 1px 2px rgba(60, 64, 67, 0.3), 0px 1px 3px 1px rgba(60, 64, 67, 0.15);\n",
              "      fill: #174EA6;\n",
              "    }\n",
              "\n",
              "    .colab-df-buttons div {\n",
              "      margin-bottom: 4px;\n",
              "    }\n",
              "\n",
              "    [theme=dark] .colab-df-convert {\n",
              "      background-color: #3B4455;\n",
              "      fill: #D2E3FC;\n",
              "    }\n",
              "\n",
              "    [theme=dark] .colab-df-convert:hover {\n",
              "      background-color: #434B5C;\n",
              "      box-shadow: 0px 1px 3px 1px rgba(0, 0, 0, 0.15);\n",
              "      filter: drop-shadow(0px 1px 2px rgba(0, 0, 0, 0.3));\n",
              "      fill: #FFFFFF;\n",
              "    }\n",
              "  </style>\n",
              "\n",
              "    <script>\n",
              "      const buttonEl =\n",
              "        document.querySelector('#df-5550b209-b316-4ca2-ba66-defa854bbec3 button.colab-df-convert');\n",
              "      buttonEl.style.display =\n",
              "        google.colab.kernel.accessAllowed ? 'block' : 'none';\n",
              "\n",
              "      async function convertToInteractive(key) {\n",
              "        const element = document.querySelector('#df-5550b209-b316-4ca2-ba66-defa854bbec3');\n",
              "        const dataTable =\n",
              "          await google.colab.kernel.invokeFunction('convertToInteractive',\n",
              "                                                    [key], {});\n",
              "        if (!dataTable) return;\n",
              "\n",
              "        const docLinkHtml = 'Like what you see? Visit the ' +\n",
              "          '<a target=\"_blank\" href=https://colab.research.google.com/notebooks/data_table.ipynb>data table notebook</a>'\n",
              "          + ' to learn more about interactive tables.';\n",
              "        element.innerHTML = '';\n",
              "        dataTable['output_type'] = 'display_data';\n",
              "        await google.colab.output.renderOutput(dataTable, element);\n",
              "        const docLink = document.createElement('div');\n",
              "        docLink.innerHTML = docLinkHtml;\n",
              "        element.appendChild(docLink);\n",
              "      }\n",
              "    </script>\n",
              "  </div>\n",
              "\n",
              "\n",
              "<div id=\"df-6f7a5ee1-bd96-4a73-97ce-83842f5d44ae\">\n",
              "  <button class=\"colab-df-quickchart\" onclick=\"quickchart('df-6f7a5ee1-bd96-4a73-97ce-83842f5d44ae')\"\n",
              "            title=\"Suggest charts.\"\n",
              "            style=\"display:none;\">\n",
              "\n",
              "<svg xmlns=\"http://www.w3.org/2000/svg\" height=\"24px\"viewBox=\"0 0 24 24\"\n",
              "     width=\"24px\">\n",
              "    <g>\n",
              "        <path d=\"M19 3H5c-1.1 0-2 .9-2 2v14c0 1.1.9 2 2 2h14c1.1 0 2-.9 2-2V5c0-1.1-.9-2-2-2zM9 17H7v-7h2v7zm4 0h-2V7h2v10zm4 0h-2v-4h2v4z\"/>\n",
              "    </g>\n",
              "</svg>\n",
              "  </button>\n",
              "\n",
              "<style>\n",
              "  .colab-df-quickchart {\n",
              "    background-color: #E8F0FE;\n",
              "    border: none;\n",
              "    border-radius: 50%;\n",
              "    cursor: pointer;\n",
              "    display: none;\n",
              "    fill: #1967D2;\n",
              "    height: 32px;\n",
              "    padding: 0 0 0 0;\n",
              "    width: 32px;\n",
              "  }\n",
              "\n",
              "  .colab-df-quickchart:hover {\n",
              "    background-color: #E2EBFA;\n",
              "    box-shadow: 0px 1px 2px rgba(60, 64, 67, 0.3), 0px 1px 3px 1px rgba(60, 64, 67, 0.15);\n",
              "    fill: #174EA6;\n",
              "  }\n",
              "\n",
              "  [theme=dark] .colab-df-quickchart {\n",
              "    background-color: #3B4455;\n",
              "    fill: #D2E3FC;\n",
              "  }\n",
              "\n",
              "  [theme=dark] .colab-df-quickchart:hover {\n",
              "    background-color: #434B5C;\n",
              "    box-shadow: 0px 1px 3px 1px rgba(0, 0, 0, 0.15);\n",
              "    filter: drop-shadow(0px 1px 2px rgba(0, 0, 0, 0.3));\n",
              "    fill: #FFFFFF;\n",
              "  }\n",
              "</style>\n",
              "\n",
              "  <script>\n",
              "    async function quickchart(key) {\n",
              "      const charts = await google.colab.kernel.invokeFunction(\n",
              "          'suggestCharts', [key], {});\n",
              "    }\n",
              "    (() => {\n",
              "      let quickchartButtonEl =\n",
              "        document.querySelector('#df-6f7a5ee1-bd96-4a73-97ce-83842f5d44ae button');\n",
              "      quickchartButtonEl.style.display =\n",
              "        google.colab.kernel.accessAllowed ? 'block' : 'none';\n",
              "    })();\n",
              "  </script>\n",
              "</div>\n",
              "    </div>\n",
              "  </div>\n"
            ]
          },
          "metadata": {},
          "execution_count": 37
        }
      ],
      "source": [
        "df_downsampled.limit(3).toPandas()"
      ]
    },
    {
      "cell_type": "code",
      "execution_count": 34,
      "metadata": {
        "id": "bDhdqm4OYmu-"
      },
      "outputs": [],
      "source": [
        "feature_cols = ['term',\t'acc_now_delinq',\t'annual_inc',\n",
        "                'application_type',\t'dti',\t'installment',\n",
        "                 'int_rate',\t'loan_amnt',\n",
        "                'grade_index',\t'verification_status_encoded',\n",
        "                'initial_list_status_encoded',\n",
        "                'purpose_encoded',\t'home_ownership_encoded']\n",
        "target = ['target']\n",
        "assembler = VectorAssembler(inputCols=feature_cols, outputCol=\"features_to_scale\")\n",
        "\n",
        "df_downsampled = assembler.transform(df_downsampled)"
      ]
    },
    {
      "cell_type": "code",
      "source": [
        "df_downsampled\\\n",
        ".select('features_to_scale', 'target')\\\n",
        ".show()"
      ],
      "metadata": {
        "colab": {
          "base_uri": "https://localhost:8080/"
        },
        "id": "ChZi28NoIJJC",
        "outputId": "7b87fd68-06c8-4a7b-da50-eea03977e8bc"
      },
      "execution_count": null,
      "outputs": [
        {
          "output_type": "stream",
          "name": "stdout",
          "text": [
            "+--------------------+------+\n",
            "|   features_to_scale|target|\n",
            "+--------------------+------+\n",
            "|(29,[0,2,3,4,5,6,...|     0|\n",
            "|(29,[0,2,3,4,5,6,...|     0|\n",
            "|(29,[0,2,3,4,5,6,...|     0|\n",
            "|(29,[0,2,3,4,5,6,...|     0|\n",
            "|(29,[0,2,3,4,5,6,...|     0|\n",
            "|(29,[0,2,3,4,5,6,...|     0|\n",
            "|(29,[0,2,3,4,5,6,...|     0|\n",
            "|(29,[0,2,3,4,5,6,...|     0|\n",
            "|(29,[0,2,3,4,5,6,...|     0|\n",
            "|(29,[0,2,3,4,5,6,...|     0|\n",
            "|(29,[0,2,3,4,5,6,...|     0|\n",
            "|(29,[0,2,3,4,5,6,...|     0|\n",
            "|(29,[0,2,3,4,5,6,...|     0|\n",
            "|(29,[0,2,3,4,5,6,...|     0|\n",
            "|(29,[0,2,3,4,5,6,...|     0|\n",
            "|(29,[0,2,3,4,5,6,...|     0|\n",
            "|(29,[0,2,3,4,5,6,...|     0|\n",
            "|(29,[0,2,3,4,5,6,...|     0|\n",
            "|(29,[0,2,3,4,5,6,...|     0|\n",
            "|(29,[0,2,3,4,5,6,...|     0|\n",
            "+--------------------+------+\n",
            "only showing top 20 rows\n",
            "\n"
          ]
        }
      ]
    },
    {
      "cell_type": "markdown",
      "metadata": {
        "id": "QYMEy-cqYUEv"
      },
      "source": [
        "#MinMaxScaler"
      ]
    },
    {
      "cell_type": "code",
      "execution_count": 35,
      "metadata": {
        "id": "NeiaMF4KYV3Y"
      },
      "outputs": [],
      "source": [
        "scaler = MinMaxScaler(inputCol=\"features_to_scale\", outputCol=\"features\")\n",
        "scalerModel = scaler.fit(df_downsampled)\n",
        "df_downsampled = scalerModel.transform(df_downsampled)"
      ]
    },
    {
      "cell_type": "code",
      "source": [
        "df_downsampled\\\n",
        ".select('features', 'target')\\\n",
        ".show()"
      ],
      "metadata": {
        "colab": {
          "base_uri": "https://localhost:8080/"
        },
        "id": "rBd8lyXCaV1v",
        "outputId": "e1a226e8-60c4-428c-b46e-48b603c1bfed"
      },
      "execution_count": null,
      "outputs": [
        {
          "output_type": "stream",
          "name": "stdout",
          "text": [
            "+----------------------------------------------------------------------------------------------------------------------------------------------------------------------------+------+\n",
            "|features                                                                                                                                                                    |target|\n",
            "+----------------------------------------------------------------------------------------------------------------------------------------------------------------------------+------+\n",
            "|(29,[2,3,4,5,6,7,8,10,14,25],[0.0033406274195523014,1.0,0.032,0.07948444946157772,0.3380062261044095,0.09367088607594937,0.3333333333333333,1.0,1.0,1.0])                   |0     |\n",
            "|(29,[2,3,4,5,6,7,8,9,10,14,25],[0.0043852263625017394,1.0,0.024,0.15542509080406253,0.3380062261044095,0.189873417721519,0.3333333333333333,1.0,1.0,1.0,1.0])               |0     |\n",
            "|(29,[2,3,4,5,6,7,8,10,14,24],[0.014622296003406228,1.0,0.007,0.03246745697734716,0.12383176984407146,0.0379746835443038,0.16666666666666666,1.0,1.0,1.0])                   |0     |\n",
            "|(29,[2,3,4,5,6,7,8,9,10,14,25],[0.0046986060453865705,1.0,0.038,0.1897580174903123,0.2601246056461048,0.24050632911392406,0.3333333333333333,1.0,1.0,1.0,1.0])              |0     |\n",
            "|(29,[2,3,4,5,6,7,8,10,14,25],[0.0310224994077124,1.0,0.013000000000000001,0.2054829704476911,0.21300622378335637,0.2658227848101266,0.16666666666666666,1.0,1.0,1.0])       |0     |\n",
            "|(29,[2,3,4,5,6,7,8,14,25],[0.010966199703083197,1.0,0.018000000000000002,0.06549631008162224,0.3380062261044095,0.0759493670886076,0.3333333333333333,1.0,1.0])             |0     |\n",
            "|(29,[2,3,4,5,6,7,8,9,10,14,24],[0.01880069177520398,1.0,0.013000000000000001,0.034391409382402455,0.2601246056461048,0.0379746835443038,0.3333333333333333,1.0,1.0,1.0,1.0])|0     |\n",
            "|(29,[2,3,4,5,6,7,8,10,14,24],[0.00782895569772315,1.0,0.034,0.08876503978982604,0.15031153268368724,0.1139240506329114,0.16666666666666666,1.0,1.0,1.0])                    |0     |\n",
            "|(29,[2,3,4,5,6,7,9,10,14,24],[0.006265504459810727,1.0,0.03,0.17609151355919966,0.06542055450034288,0.24050632911392406,1.0,1.0,1.0,1.0])                                   |0     |\n",
            "|(29,[2,3,4,5,6,7,8,10,14,26],[0.0032570595041163464,1.0,0.022,0.22175179025503444,0.6939252078312779,0.239873417721519,0.8333333333333333,1.0,1.0,1.0])                     |0     |\n",
            "|(29,[2,3,4,5,6,7,14,24],[0.02611288437585004,1.0,0.017,0.10535549504601226,0.10124610288211112,0.13924050632911394,1.0,1.0])                                                |0     |\n",
            "|(29,[2,3,4,5,6,7,10,14,24],[0.010966199703083197,1.0,0.017,0.45307657372282334,0.10124610288211112,0.6202531645569621,1.0,1.0,1.0])                                         |0     |\n",
            "|(29,[2,3,4,5,6,7,8,10,14,24],[0.0038129950615540375,1.0,0.036000000000000004,0.014970584484309237,0.2601246056461048,0.012658227848101267,0.3333333333333333,1.0,1.0,1.0])  |0     |\n",
            "|(29,[2,3,4,5,6,7,8,10,14,25],[0.0035378476999811553,1.0,0.04,0.24370475480554302,0.551791265349612,0.2784810126582279,0.6666666666666666,1.0,1.0,1.0])                      |0     |\n",
            "|(29,[2,3,4,5,6,7,10,14,26],[0.012533098117507352,1.0,0.02,0.2421550689017966,0.10124610288211112,0.3284810126582279,1.0,1.0,1.0])                                           |0     |\n",
            "|(29,[0,2,3,4,5,6,7,8,10,14,24],[1.0,0.005482055252598649,1.0,0.026000000000000002,0.19515560374258725,0.4929906329907477,0.3278481012658228,0.5,1.0,1.0,1.0])               |0     |\n",
            "|(29,[2,3,4,5,6,7,8,9,10,14,25],[0.0030272477366674704,1.0,0.031,0.053595865398166874,0.43925234755494597,0.05822784810126583,0.5,1.0,1.0,1.0,1.0])                          |0     |\n",
            "|(29,[2,3,4,5,6,7,8,10,14,25],[0.008145782557119714,1.0,0.013000000000000001,0.18369959955346513,0.1748442475844753,0.24050632911392406,0.16666666666666666,1.0,1.0,1.0])    |0     |\n",
            "|(29,[2,3,4,5,6,7,8,10,14,25],[0.0030272477366674704,1.0,0.022,0.11893428427433321,0.2402647835163929,0.14936708860759496,0.16666666666666666,1.0,1.0,1.0])                  |0     |\n",
            "|(29,[2,3,4,5,6,7,8,10,14,25],[0.00939930128865904,1.0,0.008,0.09097553953181652,0.21300622378335637,0.1139240506329114,0.16666666666666666,1.0,1.0,1.0])                    |0     |\n",
            "+----------------------------------------------------------------------------------------------------------------------------------------------------------------------------+------+\n",
            "only showing top 20 rows\n",
            "\n"
          ]
        }
      ]
    },
    {
      "cell_type": "markdown",
      "metadata": {
        "id": "yXbJVGpJX2ux"
      },
      "source": [
        "# Models"
      ]
    },
    {
      "cell_type": "code",
      "source": [
        "train_data, test_data = df_downsampled.randomSplit([0.8, 0.2], seed=42)\n",
        "evaluator_accuracy = MulticlassClassificationEvaluator(labelCol=\"target\", predictionCol=\"prediction\", metricName=\"accuracy\")\n",
        "f1_evaluator = MulticlassClassificationEvaluator(metricName=\"weightedFMeasure\", labelCol=\"target\")"
      ],
      "metadata": {
        "id": "3HjKIvnZcLLd"
      },
      "execution_count": 50,
      "outputs": []
    },
    {
      "cell_type": "markdown",
      "source": [
        "## Logistic Regression"
      ],
      "metadata": {
        "id": "UDr3ELmBOLJN"
      }
    },
    {
      "cell_type": "code",
      "source": [
        "lr = LogisticRegression(featuresCol = 'features', labelCol = 'target')\n",
        "\n",
        "# Trenowanie modelu\n",
        "lrModel = lr.fit(train_data)\n",
        "\n",
        "# Predykcja na danych testowych\n",
        "predictions_lr = lrModel.transform(test_data)\n",
        "\n",
        "f1_reg = f1_evaluator.evaluate(predictions_lr)\n",
        "print(\"F1 for Logistic Regression: \", f1_reg)"
      ],
      "metadata": {
        "colab": {
          "base_uri": "https://localhost:8080/"
        },
        "id": "Fx3ml5q_hpIv",
        "outputId": "207b6811-2858-449e-be8d-a0294ae83d2d"
      },
      "execution_count": null,
      "outputs": [
        {
          "output_type": "stream",
          "name": "stdout",
          "text": [
            "F1 for Logistic Regression:  0.5931188602790636\n"
          ]
        }
      ]
    },
    {
      "cell_type": "markdown",
      "source": [
        "## Random Forest"
      ],
      "metadata": {
        "id": "1mezr2DQOJlT"
      }
    },
    {
      "cell_type": "code",
      "source": [
        "rf = RandomForestClassifier(featuresCol = 'features', labelCol = 'target')\n",
        "\n",
        "\n",
        "rfModel = rf.fit(train_data)\n",
        "predictions_rf = rfModel.transform(test_data)\n",
        "\n",
        "accuracy = evaluator_accuracy.evaluate(predictions_rf)\n",
        "f1_score = f1_evaluator.evaluate(predictions_rf)\n",
        "\n",
        "print(f\"Accuracy: {accuracy}\")\n",
        "print(f\"F1 Score: {f1_score}\")"
      ],
      "metadata": {
        "id": "CWbp_dFGf6ze",
        "colab": {
          "base_uri": "https://localhost:8080/"
        },
        "outputId": "5aea377c-704e-4718-d6a3-86c4c0cb9a86"
      },
      "execution_count": 54,
      "outputs": [
        {
          "output_type": "stream",
          "name": "stdout",
          "text": [
            "Accuracy: 0.6121018295503485\n",
            "F1 Score: 0.5949979310761154\n"
          ]
        }
      ]
    },
    {
      "cell_type": "markdown",
      "source": [
        "## Grid Search & Cross Validation"
      ],
      "metadata": {
        "id": "kgYWenS5OsmN"
      }
    },
    {
      "cell_type": "code",
      "source": [
        "rf_model = RandomForestClassifier(featuresCol=\"features\", labelCol=\"target\")\n",
        "\n",
        "paramGrid = ParamGridBuilder() \\\n",
        "    .addGrid(rf_model.numTrees, [2, 10]) \\\n",
        "    .addGrid(rf_model.maxDepth, [5]) \\\n",
        "    .build()\n",
        "\n",
        "crossval = CrossValidator(estimator=rf_model,\n",
        "                          estimatorParamMaps=paramGrid,\n",
        "                          evaluator=f1_evaluator,\n",
        "                          numFolds=5)\n",
        "cvModel = crossval.fit(train_data)\n",
        "\n",
        "best_model = cvModel.bestModel\n",
        "\n",
        "\n",
        "param_names = [\"numTrees\", \"maxDepth\"]\n",
        "best_params = {param_name: cvModel.bestModel.getOrDefault(param_name)\n",
        "               for param_name in param_names}\n",
        "\n",
        "print(f'Model: {best_model},\\nParametry: {best_params}')\n",
        "\n",
        "estimator_param_maps = cvModel.getEstimatorParamMaps()\n",
        "avg_metrics = cvModel.avgMetrics\n",
        "\n",
        "for idx, param_map in enumerate(estimator_param_maps):\n",
        "    metrics = avg_metrics[idx]\n",
        "    print(\"Parametry:\", param_map, '\\n')\n",
        "    print(\"Średnia metryka:\", metrics, '\\n')\n",
        "    print(\"---\")"
      ],
      "metadata": {
        "colab": {
          "base_uri": "https://localhost:8080/"
        },
        "id": "Dpol2hP-UgS6",
        "outputId": "576ef839-89c2-4313-8724-3cca121c826d"
      },
      "execution_count": null,
      "outputs": [
        {
          "output_type": "stream",
          "name": "stdout",
          "text": [
            "Model: RandomForestClassificationModel: uid=RandomForestClassifier_07c654bf4912, numTrees=10, numClasses=3, numFeatures=29,\n",
            "Parametry: {'numTrees': 10, 'maxDepth': 5}\n",
            "Parametry: {Param(parent='RandomForestClassifier_07c654bf4912', name='numTrees', doc='Number of trees to train (>= 1).'): 2, Param(parent='RandomForestClassifier_07c654bf4912', name='maxDepth', doc='Maximum depth of the tree. (>= 0) E.g., depth 0 means 1 leaf node; depth 1 means 1 internal node + 2 leaf nodes. Must be in range [0, 30].'): 5} \n",
            "\n",
            "Średnia metryka: 0.5884188787745421 \n",
            "\n",
            "---\n",
            "Parametry: {Param(parent='RandomForestClassifier_07c654bf4912', name='numTrees', doc='Number of trees to train (>= 1).'): 10, Param(parent='RandomForestClassifier_07c654bf4912', name='maxDepth', doc='Maximum depth of the tree. (>= 0) E.g., depth 0 means 1 leaf node; depth 1 means 1 internal node + 2 leaf nodes. Must be in range [0, 30].'): 5} \n",
            "\n",
            "Średnia metryka: 0.5927458876700125 \n",
            "\n",
            "---\n"
          ]
        }
      ]
    },
    {
      "cell_type": "markdown",
      "source": [
        "## Neural Network"
      ],
      "metadata": {
        "id": "rIl5q1ACObFL"
      }
    },
    {
      "cell_type": "code",
      "source": [
        "# input:29, 64 neurons in 1 hidden layer, 32 neurons in 2 hidden layer, outopt: 3\n",
        "layers = [29, 64, 32, 3]\n",
        "mlp = MultilayerPerceptronClassifier(layers=layers, labelCol=\"target\", featuresCol=\"features\", maxIter=100, seed=123)\n",
        "\n",
        "model = mlp.fit(train_data)\n",
        "\n",
        "predictions = model.transform(test_data)\n",
        "\n",
        "accuracy = evaluator_accuracy.evaluate(predictions)\n",
        "f1_score = f1_evaluator.evaluate(predictions)\n",
        "\n",
        "print(f\"Accuracy: {accuracy}\")\n",
        "print(f\"F1 Score: {f1_score}\")"
      ],
      "metadata": {
        "id": "O6WkAcBrDivi",
        "colab": {
          "base_uri": "https://localhost:8080/"
        },
        "outputId": "6f075ded-0eb7-4120-fdd4-dc1bc6fe5d9f"
      },
      "execution_count": 55,
      "outputs": [
        {
          "output_type": "stream",
          "name": "stdout",
          "text": [
            "Accuracy: 0.6111846617644713\n",
            "F1 Score: 0.594672243867977\n"
          ]
        }
      ]
    },
    {
      "cell_type": "code",
      "source": [],
      "metadata": {
        "id": "uPj5-za5SAER"
      },
      "execution_count": null,
      "outputs": []
    }
  ],
  "metadata": {
    "colab": {
      "provenance": [],
      "toc_visible": true,
      "authorship_tag": "ABX9TyOJmKNhf/UE3XCeeI8A76aW",
      "include_colab_link": true
    },
    "kernelspec": {
      "display_name": "Python 3",
      "name": "python3"
    },
    "language_info": {
      "name": "python"
    }
  },
  "nbformat": 4,
  "nbformat_minor": 0
}