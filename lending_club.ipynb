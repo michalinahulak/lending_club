{
  "cells": [
    {
      "cell_type": "markdown",
      "metadata": {
        "id": "view-in-github",
        "colab_type": "text"
      },
      "source": [
        "<a href=\"https://colab.research.google.com/github/michalinahulak/lending_club/blob/main/lending_club.ipynb\" target=\"_parent\"><img src=\"https://colab.research.google.com/assets/colab-badge.svg\" alt=\"Open In Colab\"/></a>"
      ]
    },
    {
      "cell_type": "code",
      "execution_count": null,
      "metadata": {
        "colab": {
          "base_uri": "https://localhost:8080/",
          "height": 336
        },
        "id": "BpD57tMG7p6g",
        "outputId": "67b9a93b-45b4-47eb-def6-e3fc3540d1e9"
      },
      "outputs": [
        {
          "output_type": "execute_result",
          "data": {
            "text/html": [
              "<img src=\"https://mma.prnewswire.com/media/76307/lending_club_logo.jpg?p=facebook\" width=\"600\"/>"
            ],
            "text/plain": [
              "<IPython.core.display.Image object>"
            ]
          },
          "metadata": {},
          "execution_count": 44
        }
      ],
      "source": [
        "Image(url='https://mma.prnewswire.com/media/76307/lending_club_logo.jpg?p=facebook', width=600)"
      ]
    },
    {
      "cell_type": "markdown",
      "metadata": {
        "id": "2SPNOW_d5VRS"
      },
      "source": [
        "# What is Lending Club?\n",
        "LendingClub is a financial services company based in San Francisco, California. It was the first peer-to-peer lending platform to register its offerings as securities with the SEC and introduced loan trading on a secondary market. At its peak, LendingClub was the world's largest peer-to-peer lending platform. The company facilitated unsecured personal loans ranging from 1,000 to 40,000 $, with a standard loan period of three years. Investors could browse and select loans to invest in based on borrower information and loan details. LendingClub earned revenue through borrower origination fees and investor service fees. In addition to peer-to-peer lending, LendingClub also offers direct-to-consumer loans through WebBank. The company faced challenges in 2016 due to investor attrition, loan scandals, and disclosure concerns, resulting in a drop in share price and the CEO's resignation. In 2020, LendingClub acquired Radius Bank and shifted its focus away from peer-to-peer lending, discontinuing new loans and secondary marketplace transactions."
      ]
    },
    {
      "cell_type": "markdown",
      "metadata": {
        "id": "yKK-45QF8Kx0"
      },
      "source": [
        "# Dataset description\n",
        "The dataset \"accepted_2007_to_2018q4.csv\" contains data related to accepted loans from LendingClub, covering the period from 2007 to the fourth quarter of 2018.\n",
        "\n",
        "* id: Unique loan identifier.\n",
        "* purpose: The purpose of the loan, e.g., debt consolidation, car purchase, etc.\n",
        "* term: Loan term, e.g., 36 months or 60 months.\n",
        "* verification_status: Loan verification status, whether it has been verified or not verified.\n",
        "* acc_now_delinq: Number of accounts on which the borrower is currently delinquent.\n",
        "* addr_state: State provided by the borrower in the loan application.\n",
        "* annual_inc: Self-reported annual income provided by the borrower during registration.\n",
        "* application_type: Indicates whether the loan is an individual application or a joint application with two co-borrowers.\n",
        "* dti: Debt-to-income ratio calculated as the borrower's total monthly debt payments on total debt obligations, excluding mortgage and the requested loan, divided by the borrower's self-reported monthly income.\n",
        "* grade: The assigned grade of the loan by LC.\n",
        "* home_ownership: Home ownership status provided by the borrower during registration.\n",
        "* initial_list_status: The initial listing status of the loan.\n",
        "* installment: The monthly payment amount the borrower is obligated to repay if the loan is granted.\n",
        "* int_rate: The interest rate of the loan.\n",
        "* loan_amnt: The listed amount of the loan applied for by the borrower.\n",
        "* loan_status: The current status of the loan.\n",
        "* hardship_flag: Indicates whether the loan currently has a hardship flag.\n",
        "* tax_liens: Number of outstanding tax liens.\n",
        "* delinq_amnt: Number of delinquent payments.\n",
        "* policy_code: Loan policy code.\n",
        "* last_fico_range_high: The upper range of the last FICO score.\n",
        "* last_fico_range_low: The lower range of the last FICO score.\n",
        "* total_rec_late_fee: Total late fee for the loan.\n",
        "* recoveries: Amount recovered in case of loan default.\n",
        "* collection_recovery_fee: Fee for loan collection in case of loan default."
      ]
    },
    {
      "cell_type": "code",
      "execution_count": 1,
      "metadata": {
        "colab": {
          "base_uri": "https://localhost:8080/"
        },
        "id": "t95n0kla5fVG",
        "outputId": "d5faa921-b65f-4e72-e4a5-ac40b59dc2f3"
      },
      "outputs": [
        {
          "output_type": "stream",
          "name": "stdout",
          "text": [
            "Requirement already satisfied: kaggle in /usr/local/lib/python3.10/dist-packages (1.5.16)\n",
            "Requirement already satisfied: six>=1.10 in /usr/local/lib/python3.10/dist-packages (from kaggle) (1.16.0)\n",
            "Requirement already satisfied: certifi in /usr/local/lib/python3.10/dist-packages (from kaggle) (2023.7.22)\n",
            "Requirement already satisfied: python-dateutil in /usr/local/lib/python3.10/dist-packages (from kaggle) (2.8.2)\n",
            "Requirement already satisfied: requests in /usr/local/lib/python3.10/dist-packages (from kaggle) (2.31.0)\n",
            "Requirement already satisfied: tqdm in /usr/local/lib/python3.10/dist-packages (from kaggle) (4.66.1)\n",
            "Requirement already satisfied: python-slugify in /usr/local/lib/python3.10/dist-packages (from kaggle) (8.0.1)\n",
            "Requirement already satisfied: urllib3 in /usr/local/lib/python3.10/dist-packages (from kaggle) (2.0.4)\n",
            "Requirement already satisfied: bleach in /usr/local/lib/python3.10/dist-packages (from kaggle) (6.0.0)\n",
            "Requirement already satisfied: webencodings in /usr/local/lib/python3.10/dist-packages (from bleach->kaggle) (0.5.1)\n",
            "Requirement already satisfied: text-unidecode>=1.3 in /usr/local/lib/python3.10/dist-packages (from python-slugify->kaggle) (1.3)\n",
            "Requirement already satisfied: charset-normalizer<4,>=2 in /usr/local/lib/python3.10/dist-packages (from requests->kaggle) (3.2.0)\n",
            "Requirement already satisfied: idna<4,>=2.5 in /usr/local/lib/python3.10/dist-packages (from requests->kaggle) (3.4)\n",
            "Collecting pyspark\n",
            "  Downloading pyspark-3.4.1.tar.gz (310.8 MB)\n",
            "\u001b[2K     \u001b[90m━━━━━━━━━━━━━━━━━━━━━━━━━━━━━━━━━━━━━━━\u001b[0m \u001b[32m310.8/310.8 MB\u001b[0m \u001b[31m4.5 MB/s\u001b[0m eta \u001b[36m0:00:00\u001b[0m\n",
            "\u001b[?25h  Preparing metadata (setup.py) ... \u001b[?25l\u001b[?25hdone\n",
            "Requirement already satisfied: py4j==0.10.9.7 in /usr/local/lib/python3.10/dist-packages (from pyspark) (0.10.9.7)\n",
            "Building wheels for collected packages: pyspark\n",
            "  Building wheel for pyspark (setup.py) ... \u001b[?25l\u001b[?25hdone\n",
            "  Created wheel for pyspark: filename=pyspark-3.4.1-py2.py3-none-any.whl size=311285387 sha256=0b261a1cfc95bedd0cb0a1a23120b3ffb930f2ca20767b56481626e5edbc7e44\n",
            "  Stored in directory: /root/.cache/pip/wheels/0d/77/a3/ff2f74cc9ab41f8f594dabf0579c2a7c6de920d584206e0834\n",
            "Successfully built pyspark\n",
            "Installing collected packages: pyspark\n",
            "Successfully installed pyspark-3.4.1\n"
          ]
        }
      ],
      "source": [
        "!pip install kaggle\n",
        "!pip install pyspark"
      ]
    },
    {
      "cell_type": "markdown",
      "metadata": {
        "id": "n-smmWOP5kbV"
      },
      "source": [
        "# Imports"
      ]
    },
    {
      "cell_type": "code",
      "execution_count": 2,
      "metadata": {
        "id": "kAUISuQC1c-M"
      },
      "outputs": [],
      "source": [
        "import pandas as pd\n",
        "import numpy as np\n",
        "import zipfile\n",
        "\n",
        "import matplotlib.pyplot as plt\n",
        "\n",
        "from IPython.display import Image\n",
        "\n",
        "from pyspark.sql import SparkSession\n",
        "from pyspark.sql.functions import col, isnan, when, count, regexp_extract\n",
        "from pyspark.ml.feature import VectorAssembler\n",
        "from pyspark.ml.feature import MinMaxScaler\n",
        "from pyspark.ml.linalg import DenseVector\n",
        "from pyspark.ml.feature import StringIndexer, OneHotEncoder\n",
        "from pyspark.ml.classification import GBTClassifier\n",
        "from pyspark.ml.evaluation import MulticlassClassificationEvaluator\n",
        "from pyspark.ml.classification import MultilayerPerceptronClassifier\n",
        "from pyspark.ml.classification import  RandomForestClassifier\n",
        "from pyspark.ml.classification import LogisticRegression\n",
        "from pyspark.ml.tuning import ParamGridBuilder, CrossValidator\n",
        "from pyspark.sql.types import FloatType, IntegerType\n",
        "from pyspark.sql.functions import lit\n",
        "from pyspark.sql import DataFrame\n",
        "\n",
        "from imblearn.over_sampling import SMOTE\n",
        "\n",
        "import warnings\n",
        "warnings.simplefilter(action='ignore', category=FutureWarning)\n",
        "\n",
        "from sklearn.model_selection import train_test_split\n"
      ]
    },
    {
      "cell_type": "markdown",
      "metadata": {
        "id": "3c_mYY2YIQlg"
      },
      "source": [
        "# Functions"
      ]
    },
    {
      "cell_type": "code",
      "execution_count": 3,
      "metadata": {
        "id": "oS-ybO7JIR9i"
      },
      "outputs": [],
      "source": [
        "def one_hot_encode_column(df, input_col):\n",
        "    indexer = StringIndexer(inputCol=input_col, outputCol=input_col + '_indexed')\n",
        "    indexed_df = indexer.fit(df).transform(df)\n",
        "\n",
        "    encoder = OneHotEncoder(inputCol=input_col + '_indexed', outputCol=input_col + '_encoded')\n",
        "    encoded_df = encoder.fit(indexed_df).transform(indexed_df)\n",
        "\n",
        "    encoded_df = encoded_df.drop(input_col, input_col + '_indexed')\n",
        "\n",
        "    return encoded_df"
      ]
    },
    {
      "cell_type": "code",
      "source": [
        "def scale_features(input_df: DataFrame, input_col: str, output_col: str) -> DataFrame:\n",
        "    \"\"\"\n",
        "    Scale the specified feature column using Min-Max Scaling.\n",
        "\n",
        "    Args:\n",
        "        input_df (DataFrame): The input DataFrame.\n",
        "        input_col (str): The name of the feature column to scale.\n",
        "        output_col (str): The name of the output scaled feature column.\n",
        "\n",
        "    Returns:\n",
        "        DataFrame: The DataFrame with the scaled feature column.\n",
        "    \"\"\"\n",
        "    scaler = MinMaxScaler(inputCol=input_col, outputCol=output_col)\n",
        "    scaler_model = scaler.fit(input_df)\n",
        "    scaled_df = scaler_model.transform(input_df)\n",
        "    return scaled_df"
      ],
      "metadata": {
        "id": "Q7bk5RGsGxYj"
      },
      "execution_count": 4,
      "outputs": []
    },
    {
      "cell_type": "code",
      "source": [
        "def evaluate_model(model, model_name, train_data, validation_data, test_data):\n",
        "    model = model.fit(train_data)\n",
        "\n",
        "    predictions_train = model.transform(train_data)\n",
        "    predictions_validation = model.transform(validation_data)\n",
        "    predictions_test = model.transform(test_data)\n",
        "\n",
        "    evaluator_accuracy = MulticlassClassificationEvaluator(labelCol=\"target\", predictionCol=\"prediction\", metricName=\"accuracy\")\n",
        "    f1_evaluator = MulticlassClassificationEvaluator(metricName=\"weightedFMeasure\", labelCol=\"target\")\n",
        "\n",
        "    accuracy_train = evaluator_accuracy.evaluate(predictions_train)\n",
        "    f1_score_train = f1_evaluator.evaluate(predictions_train)\n",
        "\n",
        "    accuracy_validation = evaluator_accuracy.evaluate(predictions_validation)\n",
        "    f1_score_validation = f1_evaluator.evaluate(predictions_validation)\n",
        "\n",
        "    accuracy_test = evaluator_accuracy.evaluate(predictions_test)\n",
        "    f1_score_test = f1_evaluator.evaluate(predictions_test)\n",
        "\n",
        "    results_df = pd.DataFrame({\n",
        "    \"Model\": [model_name],\n",
        "    \"Accuracy (Train)\": [round(accuracy_train, 3)],\n",
        "    \"F1 Score (Train)\": [round(f1_score_train, 3)],\n",
        "    \"Accuracy (Validation)\": [round(accuracy_validation, 3)],\n",
        "    \"F1 Score (Validation)\": [round(f1_score_validation, 3)],\n",
        "    \"Accuracy (Test)\": [round(accuracy_test, 3)],\n",
        "    \"F1 Score (Test)\": [round(f1_score_test, 3)],\n",
        "    })\n",
        "\n",
        "    return results_df"
      ],
      "metadata": {
        "id": "E3RpNQYNA9Pb"
      },
      "execution_count": 5,
      "outputs": []
    },
    {
      "cell_type": "markdown",
      "metadata": {
        "id": "JpMEf4vB1a-J"
      },
      "source": [
        "#Upload dataset"
      ]
    },
    {
      "cell_type": "code",
      "execution_count": 6,
      "metadata": {
        "id": "6rLhgL3m6xvf"
      },
      "outputs": [],
      "source": [
        "spark = SparkSession.builder \\\n",
        "    .appName(\"lending-club\") \\\n",
        "    .getOrCreate()"
      ]
    },
    {
      "cell_type": "code",
      "execution_count": 7,
      "metadata": {
        "colab": {
          "base_uri": "https://localhost:8080/",
          "height": 90
        },
        "id": "tb8aIUOy5pu2",
        "outputId": "cb51f00e-055f-458d-89da-57b29998769b"
      },
      "outputs": [
        {
          "output_type": "display_data",
          "data": {
            "text/plain": [
              "<IPython.core.display.HTML object>"
            ],
            "text/html": [
              "\n",
              "     <input type=\"file\" id=\"files-18b3fb51-e2dd-42c7-b029-92ff7ba2d4e8\" name=\"files[]\" multiple disabled\n",
              "        style=\"border:none\" />\n",
              "     <output id=\"result-18b3fb51-e2dd-42c7-b029-92ff7ba2d4e8\">\n",
              "      Upload widget is only available when the cell has been executed in the\n",
              "      current browser session. Please rerun this cell to enable.\n",
              "      </output>\n",
              "      <script>// Copyright 2017 Google LLC\n",
              "//\n",
              "// Licensed under the Apache License, Version 2.0 (the \"License\");\n",
              "// you may not use this file except in compliance with the License.\n",
              "// You may obtain a copy of the License at\n",
              "//\n",
              "//      http://www.apache.org/licenses/LICENSE-2.0\n",
              "//\n",
              "// Unless required by applicable law or agreed to in writing, software\n",
              "// distributed under the License is distributed on an \"AS IS\" BASIS,\n",
              "// WITHOUT WARRANTIES OR CONDITIONS OF ANY KIND, either express or implied.\n",
              "// See the License for the specific language governing permissions and\n",
              "// limitations under the License.\n",
              "\n",
              "/**\n",
              " * @fileoverview Helpers for google.colab Python module.\n",
              " */\n",
              "(function(scope) {\n",
              "function span(text, styleAttributes = {}) {\n",
              "  const element = document.createElement('span');\n",
              "  element.textContent = text;\n",
              "  for (const key of Object.keys(styleAttributes)) {\n",
              "    element.style[key] = styleAttributes[key];\n",
              "  }\n",
              "  return element;\n",
              "}\n",
              "\n",
              "// Max number of bytes which will be uploaded at a time.\n",
              "const MAX_PAYLOAD_SIZE = 100 * 1024;\n",
              "\n",
              "function _uploadFiles(inputId, outputId) {\n",
              "  const steps = uploadFilesStep(inputId, outputId);\n",
              "  const outputElement = document.getElementById(outputId);\n",
              "  // Cache steps on the outputElement to make it available for the next call\n",
              "  // to uploadFilesContinue from Python.\n",
              "  outputElement.steps = steps;\n",
              "\n",
              "  return _uploadFilesContinue(outputId);\n",
              "}\n",
              "\n",
              "// This is roughly an async generator (not supported in the browser yet),\n",
              "// where there are multiple asynchronous steps and the Python side is going\n",
              "// to poll for completion of each step.\n",
              "// This uses a Promise to block the python side on completion of each step,\n",
              "// then passes the result of the previous step as the input to the next step.\n",
              "function _uploadFilesContinue(outputId) {\n",
              "  const outputElement = document.getElementById(outputId);\n",
              "  const steps = outputElement.steps;\n",
              "\n",
              "  const next = steps.next(outputElement.lastPromiseValue);\n",
              "  return Promise.resolve(next.value.promise).then((value) => {\n",
              "    // Cache the last promise value to make it available to the next\n",
              "    // step of the generator.\n",
              "    outputElement.lastPromiseValue = value;\n",
              "    return next.value.response;\n",
              "  });\n",
              "}\n",
              "\n",
              "/**\n",
              " * Generator function which is called between each async step of the upload\n",
              " * process.\n",
              " * @param {string} inputId Element ID of the input file picker element.\n",
              " * @param {string} outputId Element ID of the output display.\n",
              " * @return {!Iterable<!Object>} Iterable of next steps.\n",
              " */\n",
              "function* uploadFilesStep(inputId, outputId) {\n",
              "  const inputElement = document.getElementById(inputId);\n",
              "  inputElement.disabled = false;\n",
              "\n",
              "  const outputElement = document.getElementById(outputId);\n",
              "  outputElement.innerHTML = '';\n",
              "\n",
              "  const pickedPromise = new Promise((resolve) => {\n",
              "    inputElement.addEventListener('change', (e) => {\n",
              "      resolve(e.target.files);\n",
              "    });\n",
              "  });\n",
              "\n",
              "  const cancel = document.createElement('button');\n",
              "  inputElement.parentElement.appendChild(cancel);\n",
              "  cancel.textContent = 'Cancel upload';\n",
              "  const cancelPromise = new Promise((resolve) => {\n",
              "    cancel.onclick = () => {\n",
              "      resolve(null);\n",
              "    };\n",
              "  });\n",
              "\n",
              "  // Wait for the user to pick the files.\n",
              "  const files = yield {\n",
              "    promise: Promise.race([pickedPromise, cancelPromise]),\n",
              "    response: {\n",
              "      action: 'starting',\n",
              "    }\n",
              "  };\n",
              "\n",
              "  cancel.remove();\n",
              "\n",
              "  // Disable the input element since further picks are not allowed.\n",
              "  inputElement.disabled = true;\n",
              "\n",
              "  if (!files) {\n",
              "    return {\n",
              "      response: {\n",
              "        action: 'complete',\n",
              "      }\n",
              "    };\n",
              "  }\n",
              "\n",
              "  for (const file of files) {\n",
              "    const li = document.createElement('li');\n",
              "    li.append(span(file.name, {fontWeight: 'bold'}));\n",
              "    li.append(span(\n",
              "        `(${file.type || 'n/a'}) - ${file.size} bytes, ` +\n",
              "        `last modified: ${\n",
              "            file.lastModifiedDate ? file.lastModifiedDate.toLocaleDateString() :\n",
              "                                    'n/a'} - `));\n",
              "    const percent = span('0% done');\n",
              "    li.appendChild(percent);\n",
              "\n",
              "    outputElement.appendChild(li);\n",
              "\n",
              "    const fileDataPromise = new Promise((resolve) => {\n",
              "      const reader = new FileReader();\n",
              "      reader.onload = (e) => {\n",
              "        resolve(e.target.result);\n",
              "      };\n",
              "      reader.readAsArrayBuffer(file);\n",
              "    });\n",
              "    // Wait for the data to be ready.\n",
              "    let fileData = yield {\n",
              "      promise: fileDataPromise,\n",
              "      response: {\n",
              "        action: 'continue',\n",
              "      }\n",
              "    };\n",
              "\n",
              "    // Use a chunked sending to avoid message size limits. See b/62115660.\n",
              "    let position = 0;\n",
              "    do {\n",
              "      const length = Math.min(fileData.byteLength - position, MAX_PAYLOAD_SIZE);\n",
              "      const chunk = new Uint8Array(fileData, position, length);\n",
              "      position += length;\n",
              "\n",
              "      const base64 = btoa(String.fromCharCode.apply(null, chunk));\n",
              "      yield {\n",
              "        response: {\n",
              "          action: 'append',\n",
              "          file: file.name,\n",
              "          data: base64,\n",
              "        },\n",
              "      };\n",
              "\n",
              "      let percentDone = fileData.byteLength === 0 ?\n",
              "          100 :\n",
              "          Math.round((position / fileData.byteLength) * 100);\n",
              "      percent.textContent = `${percentDone}% done`;\n",
              "\n",
              "    } while (position < fileData.byteLength);\n",
              "  }\n",
              "\n",
              "  // All done.\n",
              "  yield {\n",
              "    response: {\n",
              "      action: 'complete',\n",
              "    }\n",
              "  };\n",
              "}\n",
              "\n",
              "scope.google = scope.google || {};\n",
              "scope.google.colab = scope.google.colab || {};\n",
              "scope.google.colab._files = {\n",
              "  _uploadFiles,\n",
              "  _uploadFilesContinue,\n",
              "};\n",
              "})(self);\n",
              "</script> "
            ]
          },
          "metadata": {}
        },
        {
          "output_type": "stream",
          "name": "stdout",
          "text": [
            "Saving kaggle.json to kaggle.json\n"
          ]
        },
        {
          "output_type": "execute_result",
          "data": {
            "text/plain": [
              "{'kaggle.json': b'{\"username\":\"michalinahulak\",\"key\":\"63142a94adf014e829d3f50f9182ddbf\"}'}"
            ]
          },
          "metadata": {},
          "execution_count": 7
        }
      ],
      "source": [
        "#please upload your kaggle API (kaggle.json)\n",
        "\n",
        "from google.colab import files\n",
        "files.upload()"
      ]
    },
    {
      "cell_type": "code",
      "execution_count": 8,
      "metadata": {
        "id": "9B7UOTxM5s1F",
        "colab": {
          "base_uri": "https://localhost:8080/"
        },
        "outputId": "a56c6d5d-1498-4802-f0d5-513eb693c964"
      },
      "outputs": [
        {
          "output_type": "stream",
          "name": "stdout",
          "text": [
            "Downloading lending-club.zip to /content\n",
            " 99% 1.25G/1.26G [01:11<00:00, 65.6MB/s]\n",
            "100% 1.26G/1.26G [01:11<00:00, 18.9MB/s]\n"
          ]
        }
      ],
      "source": [
        "!mkdir -p ~/.kaggle\n",
        "!cp kaggle.json ~/.kaggle/\n",
        "!chmod 600 ~/.kaggle/kaggle.json\n",
        "!kaggle datasets download -d wordsforthewise/lending-club"
      ]
    },
    {
      "cell_type": "code",
      "execution_count": 9,
      "metadata": {
        "id": "rpN1gzmH54v8",
        "colab": {
          "base_uri": "https://localhost:8080/"
        },
        "outputId": "3613870b-0d2b-4fcb-939c-79bebe4f862e"
      },
      "outputs": [
        {
          "output_type": "stream",
          "name": "stdout",
          "text": [
            "File has been extracted.\n"
          ]
        }
      ],
      "source": [
        "#unzip\n",
        "zip_file_path = '/content/lending-club.zip'\n",
        "extract_dir = '/content/dataset'\n",
        "\n",
        "with zipfile.ZipFile(zip_file_path, 'r') as zip_ref:\n",
        "    zip_ref.extractall(extract_dir)\n",
        "\n",
        "print(\"File has been extracted.\")"
      ]
    },
    {
      "cell_type": "code",
      "execution_count": 10,
      "metadata": {
        "id": "1ktwQEOL6n4R",
        "colab": {
          "base_uri": "https://localhost:8080/",
          "height": 342
        },
        "outputId": "f655bfed-d5b4-40b8-bb6d-d2fd4cd1f65e"
      },
      "outputs": [
        {
          "output_type": "execute_result",
          "data": {
            "text/plain": [
              "         id             purpose        term verification_status  \\\n",
              "0  68407277  debt_consolidation   36 months        Not Verified   \n",
              "1  68355089      small_business   36 months        Not Verified   \n",
              "2  68341763    home_improvement   60 months        Not Verified   \n",
              "3  66310712  debt_consolidation   60 months     Source Verified   \n",
              "4  68476807      major_purchase   60 months     Source Verified   \n",
              "\n",
              "  acc_now_delinq addr_state annual_inc application_type    dti grade  ...  \\\n",
              "0            0.0         PA    55000.0       Individual   5.91     C  ...   \n",
              "1            0.0         SD    65000.0       Individual  16.06     C  ...   \n",
              "2            0.0         IL    63000.0        Joint App  10.78     B  ...   \n",
              "3            0.0         NJ   110000.0       Individual  17.06     C  ...   \n",
              "4            0.0         PA   104433.0       Individual  25.37     F  ...   \n",
              "\n",
              "  int_rate loan_amnt loan_status tax_liens delinq_amnt policy_code  \\\n",
              "0    13.99    3600.0  Fully Paid       0.0         0.0         1.0   \n",
              "1    11.99   24700.0  Fully Paid       0.0         0.0         1.0   \n",
              "2    10.78   20000.0  Fully Paid       0.0         0.0         1.0   \n",
              "3    14.85   35000.0     Current       0.0         0.0         1.0   \n",
              "4    22.45   10400.0  Fully Paid       0.0         0.0         1.0   \n",
              "\n",
              "  last_fico_range_high last_fico_range_low recoveries collection_recovery_fee  \n",
              "0                564.0               560.0        0.0                     0.0  \n",
              "1                699.0               695.0        0.0                     0.0  \n",
              "2                704.0               700.0        0.0                     0.0  \n",
              "3                679.0               675.0        0.0                     0.0  \n",
              "4                704.0               700.0        0.0                     0.0  \n",
              "\n",
              "[5 rows x 23 columns]"
            ],
            "text/html": [
              "\n",
              "  <div id=\"df-7428082a-bd96-4448-9211-ec0bd6cb3b08\" class=\"colab-df-container\">\n",
              "    <div>\n",
              "<style scoped>\n",
              "    .dataframe tbody tr th:only-of-type {\n",
              "        vertical-align: middle;\n",
              "    }\n",
              "\n",
              "    .dataframe tbody tr th {\n",
              "        vertical-align: top;\n",
              "    }\n",
              "\n",
              "    .dataframe thead th {\n",
              "        text-align: right;\n",
              "    }\n",
              "</style>\n",
              "<table border=\"1\" class=\"dataframe\">\n",
              "  <thead>\n",
              "    <tr style=\"text-align: right;\">\n",
              "      <th></th>\n",
              "      <th>id</th>\n",
              "      <th>purpose</th>\n",
              "      <th>term</th>\n",
              "      <th>verification_status</th>\n",
              "      <th>acc_now_delinq</th>\n",
              "      <th>addr_state</th>\n",
              "      <th>annual_inc</th>\n",
              "      <th>application_type</th>\n",
              "      <th>dti</th>\n",
              "      <th>grade</th>\n",
              "      <th>...</th>\n",
              "      <th>int_rate</th>\n",
              "      <th>loan_amnt</th>\n",
              "      <th>loan_status</th>\n",
              "      <th>tax_liens</th>\n",
              "      <th>delinq_amnt</th>\n",
              "      <th>policy_code</th>\n",
              "      <th>last_fico_range_high</th>\n",
              "      <th>last_fico_range_low</th>\n",
              "      <th>recoveries</th>\n",
              "      <th>collection_recovery_fee</th>\n",
              "    </tr>\n",
              "  </thead>\n",
              "  <tbody>\n",
              "    <tr>\n",
              "      <th>0</th>\n",
              "      <td>68407277</td>\n",
              "      <td>debt_consolidation</td>\n",
              "      <td>36 months</td>\n",
              "      <td>Not Verified</td>\n",
              "      <td>0.0</td>\n",
              "      <td>PA</td>\n",
              "      <td>55000.0</td>\n",
              "      <td>Individual</td>\n",
              "      <td>5.91</td>\n",
              "      <td>C</td>\n",
              "      <td>...</td>\n",
              "      <td>13.99</td>\n",
              "      <td>3600.0</td>\n",
              "      <td>Fully Paid</td>\n",
              "      <td>0.0</td>\n",
              "      <td>0.0</td>\n",
              "      <td>1.0</td>\n",
              "      <td>564.0</td>\n",
              "      <td>560.0</td>\n",
              "      <td>0.0</td>\n",
              "      <td>0.0</td>\n",
              "    </tr>\n",
              "    <tr>\n",
              "      <th>1</th>\n",
              "      <td>68355089</td>\n",
              "      <td>small_business</td>\n",
              "      <td>36 months</td>\n",
              "      <td>Not Verified</td>\n",
              "      <td>0.0</td>\n",
              "      <td>SD</td>\n",
              "      <td>65000.0</td>\n",
              "      <td>Individual</td>\n",
              "      <td>16.06</td>\n",
              "      <td>C</td>\n",
              "      <td>...</td>\n",
              "      <td>11.99</td>\n",
              "      <td>24700.0</td>\n",
              "      <td>Fully Paid</td>\n",
              "      <td>0.0</td>\n",
              "      <td>0.0</td>\n",
              "      <td>1.0</td>\n",
              "      <td>699.0</td>\n",
              "      <td>695.0</td>\n",
              "      <td>0.0</td>\n",
              "      <td>0.0</td>\n",
              "    </tr>\n",
              "    <tr>\n",
              "      <th>2</th>\n",
              "      <td>68341763</td>\n",
              "      <td>home_improvement</td>\n",
              "      <td>60 months</td>\n",
              "      <td>Not Verified</td>\n",
              "      <td>0.0</td>\n",
              "      <td>IL</td>\n",
              "      <td>63000.0</td>\n",
              "      <td>Joint App</td>\n",
              "      <td>10.78</td>\n",
              "      <td>B</td>\n",
              "      <td>...</td>\n",
              "      <td>10.78</td>\n",
              "      <td>20000.0</td>\n",
              "      <td>Fully Paid</td>\n",
              "      <td>0.0</td>\n",
              "      <td>0.0</td>\n",
              "      <td>1.0</td>\n",
              "      <td>704.0</td>\n",
              "      <td>700.0</td>\n",
              "      <td>0.0</td>\n",
              "      <td>0.0</td>\n",
              "    </tr>\n",
              "    <tr>\n",
              "      <th>3</th>\n",
              "      <td>66310712</td>\n",
              "      <td>debt_consolidation</td>\n",
              "      <td>60 months</td>\n",
              "      <td>Source Verified</td>\n",
              "      <td>0.0</td>\n",
              "      <td>NJ</td>\n",
              "      <td>110000.0</td>\n",
              "      <td>Individual</td>\n",
              "      <td>17.06</td>\n",
              "      <td>C</td>\n",
              "      <td>...</td>\n",
              "      <td>14.85</td>\n",
              "      <td>35000.0</td>\n",
              "      <td>Current</td>\n",
              "      <td>0.0</td>\n",
              "      <td>0.0</td>\n",
              "      <td>1.0</td>\n",
              "      <td>679.0</td>\n",
              "      <td>675.0</td>\n",
              "      <td>0.0</td>\n",
              "      <td>0.0</td>\n",
              "    </tr>\n",
              "    <tr>\n",
              "      <th>4</th>\n",
              "      <td>68476807</td>\n",
              "      <td>major_purchase</td>\n",
              "      <td>60 months</td>\n",
              "      <td>Source Verified</td>\n",
              "      <td>0.0</td>\n",
              "      <td>PA</td>\n",
              "      <td>104433.0</td>\n",
              "      <td>Individual</td>\n",
              "      <td>25.37</td>\n",
              "      <td>F</td>\n",
              "      <td>...</td>\n",
              "      <td>22.45</td>\n",
              "      <td>10400.0</td>\n",
              "      <td>Fully Paid</td>\n",
              "      <td>0.0</td>\n",
              "      <td>0.0</td>\n",
              "      <td>1.0</td>\n",
              "      <td>704.0</td>\n",
              "      <td>700.0</td>\n",
              "      <td>0.0</td>\n",
              "      <td>0.0</td>\n",
              "    </tr>\n",
              "  </tbody>\n",
              "</table>\n",
              "<p>5 rows × 23 columns</p>\n",
              "</div>\n",
              "    <div class=\"colab-df-buttons\">\n",
              "\n",
              "  <div class=\"colab-df-container\">\n",
              "    <button class=\"colab-df-convert\" onclick=\"convertToInteractive('df-7428082a-bd96-4448-9211-ec0bd6cb3b08')\"\n",
              "            title=\"Convert this dataframe to an interactive table.\"\n",
              "            style=\"display:none;\">\n",
              "\n",
              "  <svg xmlns=\"http://www.w3.org/2000/svg\" height=\"24px\" viewBox=\"0 -960 960 960\">\n",
              "    <path d=\"M120-120v-720h720v720H120Zm60-500h600v-160H180v160Zm220 220h160v-160H400v160Zm0 220h160v-160H400v160ZM180-400h160v-160H180v160Zm440 0h160v-160H620v160ZM180-180h160v-160H180v160Zm440 0h160v-160H620v160Z\"/>\n",
              "  </svg>\n",
              "    </button>\n",
              "\n",
              "  <style>\n",
              "    .colab-df-container {\n",
              "      display:flex;\n",
              "      gap: 12px;\n",
              "    }\n",
              "\n",
              "    .colab-df-convert {\n",
              "      background-color: #E8F0FE;\n",
              "      border: none;\n",
              "      border-radius: 50%;\n",
              "      cursor: pointer;\n",
              "      display: none;\n",
              "      fill: #1967D2;\n",
              "      height: 32px;\n",
              "      padding: 0 0 0 0;\n",
              "      width: 32px;\n",
              "    }\n",
              "\n",
              "    .colab-df-convert:hover {\n",
              "      background-color: #E2EBFA;\n",
              "      box-shadow: 0px 1px 2px rgba(60, 64, 67, 0.3), 0px 1px 3px 1px rgba(60, 64, 67, 0.15);\n",
              "      fill: #174EA6;\n",
              "    }\n",
              "\n",
              "    .colab-df-buttons div {\n",
              "      margin-bottom: 4px;\n",
              "    }\n",
              "\n",
              "    [theme=dark] .colab-df-convert {\n",
              "      background-color: #3B4455;\n",
              "      fill: #D2E3FC;\n",
              "    }\n",
              "\n",
              "    [theme=dark] .colab-df-convert:hover {\n",
              "      background-color: #434B5C;\n",
              "      box-shadow: 0px 1px 3px 1px rgba(0, 0, 0, 0.15);\n",
              "      filter: drop-shadow(0px 1px 2px rgba(0, 0, 0, 0.3));\n",
              "      fill: #FFFFFF;\n",
              "    }\n",
              "  </style>\n",
              "\n",
              "    <script>\n",
              "      const buttonEl =\n",
              "        document.querySelector('#df-7428082a-bd96-4448-9211-ec0bd6cb3b08 button.colab-df-convert');\n",
              "      buttonEl.style.display =\n",
              "        google.colab.kernel.accessAllowed ? 'block' : 'none';\n",
              "\n",
              "      async function convertToInteractive(key) {\n",
              "        const element = document.querySelector('#df-7428082a-bd96-4448-9211-ec0bd6cb3b08');\n",
              "        const dataTable =\n",
              "          await google.colab.kernel.invokeFunction('convertToInteractive',\n",
              "                                                    [key], {});\n",
              "        if (!dataTable) return;\n",
              "\n",
              "        const docLinkHtml = 'Like what you see? Visit the ' +\n",
              "          '<a target=\"_blank\" href=https://colab.research.google.com/notebooks/data_table.ipynb>data table notebook</a>'\n",
              "          + ' to learn more about interactive tables.';\n",
              "        element.innerHTML = '';\n",
              "        dataTable['output_type'] = 'display_data';\n",
              "        await google.colab.output.renderOutput(dataTable, element);\n",
              "        const docLink = document.createElement('div');\n",
              "        docLink.innerHTML = docLinkHtml;\n",
              "        element.appendChild(docLink);\n",
              "      }\n",
              "    </script>\n",
              "  </div>\n",
              "\n",
              "\n",
              "<div id=\"df-8d195cc2-17fe-4233-b259-75d28efaa9f2\">\n",
              "  <button class=\"colab-df-quickchart\" onclick=\"quickchart('df-8d195cc2-17fe-4233-b259-75d28efaa9f2')\"\n",
              "            title=\"Suggest charts.\"\n",
              "            style=\"display:none;\">\n",
              "\n",
              "<svg xmlns=\"http://www.w3.org/2000/svg\" height=\"24px\"viewBox=\"0 0 24 24\"\n",
              "     width=\"24px\">\n",
              "    <g>\n",
              "        <path d=\"M19 3H5c-1.1 0-2 .9-2 2v14c0 1.1.9 2 2 2h14c1.1 0 2-.9 2-2V5c0-1.1-.9-2-2-2zM9 17H7v-7h2v7zm4 0h-2V7h2v10zm4 0h-2v-4h2v4z\"/>\n",
              "    </g>\n",
              "</svg>\n",
              "  </button>\n",
              "\n",
              "<style>\n",
              "  .colab-df-quickchart {\n",
              "    background-color: #E8F0FE;\n",
              "    border: none;\n",
              "    border-radius: 50%;\n",
              "    cursor: pointer;\n",
              "    display: none;\n",
              "    fill: #1967D2;\n",
              "    height: 32px;\n",
              "    padding: 0 0 0 0;\n",
              "    width: 32px;\n",
              "  }\n",
              "\n",
              "  .colab-df-quickchart:hover {\n",
              "    background-color: #E2EBFA;\n",
              "    box-shadow: 0px 1px 2px rgba(60, 64, 67, 0.3), 0px 1px 3px 1px rgba(60, 64, 67, 0.15);\n",
              "    fill: #174EA6;\n",
              "  }\n",
              "\n",
              "  [theme=dark] .colab-df-quickchart {\n",
              "    background-color: #3B4455;\n",
              "    fill: #D2E3FC;\n",
              "  }\n",
              "\n",
              "  [theme=dark] .colab-df-quickchart:hover {\n",
              "    background-color: #434B5C;\n",
              "    box-shadow: 0px 1px 3px 1px rgba(0, 0, 0, 0.15);\n",
              "    filter: drop-shadow(0px 1px 2px rgba(0, 0, 0, 0.3));\n",
              "    fill: #FFFFFF;\n",
              "  }\n",
              "</style>\n",
              "\n",
              "  <script>\n",
              "    async function quickchart(key) {\n",
              "      const charts = await google.colab.kernel.invokeFunction(\n",
              "          'suggestCharts', [key], {});\n",
              "    }\n",
              "    (() => {\n",
              "      let quickchartButtonEl =\n",
              "        document.querySelector('#df-8d195cc2-17fe-4233-b259-75d28efaa9f2 button');\n",
              "      quickchartButtonEl.style.display =\n",
              "        google.colab.kernel.accessAllowed ? 'block' : 'none';\n",
              "    })();\n",
              "  </script>\n",
              "</div>\n",
              "    </div>\n",
              "  </div>\n"
            ]
          },
          "metadata": {},
          "execution_count": 10
        }
      ],
      "source": [
        "selected_columns = [\n",
        "    \"id\",\n",
        "    \"purpose\",\n",
        "    \"term\",\n",
        "    \"verification_status\",\n",
        "    \"acc_now_delinq\",\n",
        "    \"addr_state\",\n",
        "    \"annual_inc\",\n",
        "    \"application_type\",\n",
        "    \"dti\",\n",
        "    \"grade\",\n",
        "    \"home_ownership\",\n",
        "    \"initial_list_status\",\n",
        "    \"installment\",\n",
        "    \"int_rate\",\n",
        "    \"loan_amnt\",\n",
        "    \"loan_status\",\n",
        "    'tax_liens',\n",
        "    'delinq_amnt',\n",
        "    'policy_code',\n",
        "    'last_fico_range_high',\n",
        "    'last_fico_range_low',\n",
        "    'recoveries',\n",
        "    'collection_recovery_fee'\n",
        "\n",
        "]\n",
        "\n",
        "df = spark.read.csv('/content/dataset/accepted_2007_to_2018q4.csv', header=True).select(selected_columns)\n",
        "df.limit(5).toPandas()"
      ]
    },
    {
      "cell_type": "markdown",
      "metadata": {
        "id": "yjvOsUcA8tmS"
      },
      "source": [
        "# EDA"
      ]
    },
    {
      "cell_type": "markdown",
      "metadata": {
        "id": "RL7Gfqnx8gIw"
      },
      "source": [
        "## Missing values"
      ]
    },
    {
      "cell_type": "code",
      "execution_count": 11,
      "metadata": {
        "id": "O6VQKo221PYQ",
        "colab": {
          "base_uri": "https://localhost:8080/"
        },
        "outputId": "6f36ce92-df59-4050-8653-30e8ead81fb2"
      },
      "outputs": [
        {
          "output_type": "stream",
          "name": "stdout",
          "text": [
            "+---+-------+----+-------------------+--------------+----------+----------+----------------+----+-----+--------------+-------------------+-----------+--------+---------+-----------+---------+-----------+-----------+--------------------+-------------------+----------+-----------------------+\n",
            "| id|purpose|term|verification_status|acc_now_delinq|addr_state|annual_inc|application_type| dti|grade|home_ownership|initial_list_status|installment|int_rate|loan_amnt|loan_status|tax_liens|delinq_amnt|policy_code|last_fico_range_high|last_fico_range_low|recoveries|collection_recovery_fee|\n",
            "+---+-------+----+-------------------+--------------+----------+----------+----------------+----+-----+--------------+-------------------+-----------+--------+---------+-----------+---------+-----------+-----------+--------------------+-------------------+----------+-----------------------+\n",
            "|  0|     34|  33|                 33|           221|        34|        37|              88|1745|   33|            33|                 50|         33|      33|       33|         33|      338|        258|         99|                  76|                 68|        35|                     39|\n",
            "+---+-------+----+-------------------+--------------+----------+----------+----------------+----+-----+--------------+-------------------+-----------+--------+---------+-----------+---------+-----------+-----------+--------------------+-------------------+----------+-----------------------+\n",
            "\n"
          ]
        }
      ],
      "source": [
        "null_counts = df.agg(*[count(when(isnan(c) | col(c).isNull(), c)).alias(c) for c in df.columns])\n",
        "null_counts.show()"
      ]
    },
    {
      "cell_type": "code",
      "execution_count": 12,
      "metadata": {
        "id": "HESILoC92MIq"
      },
      "outputs": [],
      "source": [
        "df = df.na.drop()"
      ]
    },
    {
      "cell_type": "markdown",
      "source": [
        "## 'purpose'"
      ],
      "metadata": {
        "id": "7zrfZZQhln7w"
      }
    },
    {
      "cell_type": "code",
      "execution_count": 13,
      "metadata": {
        "id": "N3n_zkgMPKfe",
        "colab": {
          "base_uri": "https://localhost:8080/"
        },
        "outputId": "7986f7d1-bfa8-487e-9ae9-a631c79b4f9e"
      },
      "outputs": [
        {
          "output_type": "stream",
          "name": "stdout",
          "text": [
            "+------------------+-------+\n",
            "|           purpose|  count|\n",
            "+------------------+-------+\n",
            "|           wedding|   2351|\n",
            "|             other| 139270|\n",
            "|    small_business|  24638|\n",
            "|debt_consolidation|1276774|\n",
            "|       credit_card| 516570|\n",
            "|            moving|  15369|\n",
            "|          vacation|  15518|\n",
            "|  renewable_energy|   1444|\n",
            "|             house|  14119|\n",
            "|               car|  23996|\n",
            "|    major_purchase|  50400|\n",
            "|           medical|  27453|\n",
            "|  home_improvement| 150290|\n",
            "|       educational|    404|\n",
            "+------------------+-------+\n",
            "\n"
          ]
        }
      ],
      "source": [
        "df_with_count = df.groupBy('purpose').count()\n",
        "df_with_count.show()"
      ]
    },
    {
      "cell_type": "code",
      "source": [
        "# Replacing values in the 'purpose' column based on the 'count' column condition\n",
        "# If 'count' is less than 300, set 'purpose' to \"other\", else keep the original 'purpose'\n",
        "\n",
        "df = df\\\n",
        ".join(df_with_count, on='purpose', how='left')\\\n",
        ".withColumn(\"purpose\", when(col(\"count\") < 300, \"other\").otherwise(col(\"purpose\")))\\\n",
        ".drop('count')"
      ],
      "metadata": {
        "id": "xi8eqFc4lt0F"
      },
      "execution_count": 14,
      "outputs": []
    },
    {
      "cell_type": "code",
      "source": [
        "unique_purposes = df.select(\"purpose\").distinct()\n",
        "unique_purposes.show()"
      ],
      "metadata": {
        "id": "8kUa_Ew-luO8",
        "colab": {
          "base_uri": "https://localhost:8080/"
        },
        "outputId": "469d33cd-5489-485f-a9a3-564082bfd196"
      },
      "execution_count": 15,
      "outputs": [
        {
          "output_type": "stream",
          "name": "stdout",
          "text": [
            "+------------------+\n",
            "|           purpose|\n",
            "+------------------+\n",
            "|           wedding|\n",
            "|       educational|\n",
            "|             other|\n",
            "|    small_business|\n",
            "|debt_consolidation|\n",
            "|       credit_card|\n",
            "|            moving|\n",
            "|          vacation|\n",
            "|  renewable_energy|\n",
            "|             house|\n",
            "|               car|\n",
            "|    major_purchase|\n",
            "|           medical|\n",
            "|  home_improvement|\n",
            "+------------------+\n",
            "\n"
          ]
        }
      ]
    },
    {
      "cell_type": "markdown",
      "metadata": {
        "id": "rqrvS7vX2O17"
      },
      "source": [
        "## 'term'"
      ]
    },
    {
      "cell_type": "code",
      "execution_count": 16,
      "metadata": {
        "id": "mXmdkDdr2EeO",
        "colab": {
          "base_uri": "https://localhost:8080/"
        },
        "outputId": "815ed491-7d08-42a8-9d84-8271326c315f"
      },
      "outputs": [
        {
          "output_type": "stream",
          "name": "stdout",
          "text": [
            "+----------+-------+\n",
            "|      term|  count|\n",
            "+----------+-------+\n",
            "| 36 months|1608405|\n",
            "| 60 months| 650191|\n",
            "+----------+-------+\n",
            "\n"
          ]
        }
      ],
      "source": [
        "df.groupby('term').count()\\\n",
        ".show()"
      ]
    },
    {
      "cell_type": "code",
      "execution_count": 17,
      "metadata": {
        "id": "QweSkKSi2zS-"
      },
      "outputs": [],
      "source": [
        "# Applying a regular expression to extract numbers from the 'term' column and then casting it to the Integer data type.\n",
        "\n",
        "df = df\\\n",
        ".withColumn(\"term\", regexp_extract(col(\"term\"), r'(\\d+)', 0).cast(\"int\"))"
      ]
    },
    {
      "cell_type": "markdown",
      "metadata": {
        "id": "rjpBkNWt2b_0"
      },
      "source": [
        "## 'verification_status'"
      ]
    },
    {
      "cell_type": "code",
      "execution_count": 18,
      "metadata": {
        "id": "vb8alLe42bcN",
        "colab": {
          "base_uri": "https://localhost:8080/"
        },
        "outputId": "22f4ab9f-ec17-4f83-f143-4d9e3d7acad9"
      },
      "outputs": [
        {
          "output_type": "stream",
          "name": "stdout",
          "text": [
            "+-------------------+------+\n",
            "|verification_status| count|\n",
            "+-------------------+------+\n",
            "|           Verified|629395|\n",
            "|    Source Verified|886141|\n",
            "|       Not Verified|743060|\n",
            "+-------------------+------+\n",
            "\n"
          ]
        }
      ],
      "source": [
        "df.groupby('verification_status').count()\\\n",
        ".show()"
      ]
    },
    {
      "cell_type": "code",
      "execution_count": 19,
      "metadata": {
        "id": "iVvbM1Wo3Ne5"
      },
      "outputs": [],
      "source": [
        "# Encode 'verification_status' column values into a new column 'verification_status_encoded'\n",
        "# If 'verification_status' is either \"Verified\" or \"Source Verified\", set 'verification_status_encoded' to 0\n",
        "# Otherwise, set it to 1\n",
        "\n",
        "df = df\\\n",
        ".withColumn(\"verification_status_encoded\",\n",
        "            when(col(\"verification_status\")\n",
        "                 .isin([\"Verified\", \"Source Verified\"]),0)\n",
        "            .otherwise(1))\\\n",
        ".drop(\"verification_status\")"
      ]
    },
    {
      "cell_type": "markdown",
      "metadata": {
        "id": "07zfzqAn3UP4"
      },
      "source": [
        "## 'acc_now_delinq'\n"
      ]
    },
    {
      "cell_type": "code",
      "execution_count": 20,
      "metadata": {
        "id": "5aWngWk53Z-t",
        "colab": {
          "base_uri": "https://localhost:8080/"
        },
        "outputId": "5cc29819-1484-4174-a4f5-7cb46d881dba"
      },
      "outputs": [
        {
          "output_type": "stream",
          "name": "stdout",
          "text": [
            "+--------------+-------+\n",
            "|acc_now_delinq|  count|\n",
            "+--------------+-------+\n",
            "|           1.0|   8290|\n",
            "|           0.0|2249817|\n",
            "|           5.0|      3|\n",
            "|           4.0|     11|\n",
            "|           2.0|    421|\n",
            "|           3.0|     50|\n",
            "|          14.0|      1|\n",
            "|           6.0|      2|\n",
            "|           7.0|      1|\n",
            "+--------------+-------+\n",
            "\n"
          ]
        }
      ],
      "source": [
        "df.groupby('acc_now_delinq').count()\\\n",
        ".show()"
      ]
    },
    {
      "cell_type": "code",
      "execution_count": 21,
      "metadata": {
        "id": "Y0DZ_-yo5jIv"
      },
      "outputs": [],
      "source": [
        "# Define the valid values for 'acc_now_delinq'\n",
        "valid_values = [0, 1, 2, 3, 4, 5, 6, 7, 8, 9, 10]\n",
        "\n",
        "# Modify the 'acc_now_delinq' column:\n",
        "# 1. Cast the column to IntegerType\n",
        "# 2. Set values greater than or equal to 4 to 4, and keep other valid values as they are\n",
        "df = df.withColumn('acc_now_delinq', col('acc_now_delinq').cast('int')) \\\n",
        "       .withColumn('acc_now_delinq', when(col('acc_now_delinq') >= 4, 4).otherwise(col('acc_now_delinq'))) \\\n",
        "       .filter(col('acc_now_delinq').isin(valid_values))"
      ]
    },
    {
      "cell_type": "code",
      "execution_count": 22,
      "metadata": {
        "id": "6LA6GJCV5kxp",
        "colab": {
          "base_uri": "https://localhost:8080/"
        },
        "outputId": "d84d4257-4001-4d22-ca29-6b2d39cd8ee8"
      },
      "outputs": [
        {
          "output_type": "stream",
          "name": "stdout",
          "text": [
            "+--------------+-------+\n",
            "|acc_now_delinq|  count|\n",
            "+--------------+-------+\n",
            "|             1|   8290|\n",
            "|             3|     50|\n",
            "|             4|     18|\n",
            "|             2|    421|\n",
            "|             0|2249817|\n",
            "+--------------+-------+\n",
            "\n"
          ]
        }
      ],
      "source": [
        "df.groupby('acc_now_delinq').count()\\\n",
        ".show()"
      ]
    },
    {
      "cell_type": "markdown",
      "metadata": {
        "id": "XUkTNMgy6jCw"
      },
      "source": [
        "## 'application_type'"
      ]
    },
    {
      "cell_type": "code",
      "execution_count": 23,
      "metadata": {
        "id": "61QjUX8G6tlI",
        "colab": {
          "base_uri": "https://localhost:8080/"
        },
        "outputId": "f65ecf29-57ce-45b5-d37c-d4558b93648e"
      },
      "outputs": [
        {
          "output_type": "stream",
          "name": "stdout",
          "text": [
            "+----------------+-------+\n",
            "|application_type|  count|\n",
            "+----------------+-------+\n",
            "|       Joint App| 118999|\n",
            "|      Individual|2139597|\n",
            "+----------------+-------+\n",
            "\n"
          ]
        }
      ],
      "source": [
        "df.groupby('application_type').count()\\\n",
        ".show()"
      ]
    },
    {
      "cell_type": "code",
      "execution_count": 24,
      "metadata": {
        "id": "x8mYJ9mU7o7e"
      },
      "outputs": [],
      "source": [
        "# Define the valid values for 'application_type'\n",
        "valid_values = ['Joint App', 'Individual']\n",
        "\n",
        "# Modify the 'application_type' column:\n",
        "# 1. Map 'Joint App' to 0 and 'Individual' to 1\n",
        "# 2. Remove other values\n",
        "# 3. Cast the column to IntegerType\n",
        "\n",
        "df = df.withColumn('application_type',\n",
        "                   when(col('application_type') == 'Joint App', 0)\n",
        "                   .when(col('application_type') == 'Individual', 1)\n",
        "                   .otherwise(None))\n",
        "\n",
        "df = df.filter(col('application_type').isNotNull()).withColumn('application_type', col('application_type').cast('int'))"
      ]
    },
    {
      "cell_type": "markdown",
      "metadata": {
        "id": "nbxSkPES8xCX"
      },
      "source": [
        "## 'grade'"
      ]
    },
    {
      "cell_type": "code",
      "execution_count": 25,
      "metadata": {
        "id": "fs8JP6Wv80yB",
        "colab": {
          "base_uri": "https://localhost:8080/"
        },
        "outputId": "4e71cb7a-0e15-4cec-eb41-2c526cb76e1f"
      },
      "outputs": [
        {
          "output_type": "stream",
          "name": "stdout",
          "text": [
            "+-----+------+\n",
            "|grade| count|\n",
            "+-----+------+\n",
            "|    F| 41758|\n",
            "|    E|135506|\n",
            "|    B|663013|\n",
            "|    D|324042|\n",
            "|    C|649471|\n",
            "|    A|432662|\n",
            "|    G| 12144|\n",
            "+-----+------+\n",
            "\n"
          ]
        }
      ],
      "source": [
        "df.groupby('grade').count()\\\n",
        ".show()"
      ]
    },
    {
      "cell_type": "code",
      "execution_count": 26,
      "metadata": {
        "id": "239oUHSD9JW-"
      },
      "outputs": [],
      "source": [
        "# Create a StringIndexer to convert 'grade' column into numerical indices\n",
        "grade_indexer = StringIndexer(inputCol=\"grade\", outputCol=\"grade_index\", stringOrderType=\"alphabetAsc\")\n",
        "\n",
        "df = grade_indexer\\\n",
        ".fit(df)\\\n",
        ".transform(df)\\\n",
        ".drop('grade')"
      ]
    },
    {
      "cell_type": "markdown",
      "metadata": {
        "id": "7RLQ1YlyPFqr"
      },
      "source": [
        "## One Hot Encoder"
      ]
    },
    {
      "cell_type": "code",
      "execution_count": 27,
      "metadata": {
        "id": "_Wcob_NDPNk0"
      },
      "outputs": [],
      "source": [
        "columns_to_encode = ['purpose', 'addr_state', 'home_ownership', 'initial_list_status']\n",
        "\n",
        "for column in columns_to_encode:\n",
        "    df = one_hot_encode_column(df, column)"
      ]
    },
    {
      "cell_type": "markdown",
      "metadata": {
        "id": "wTQdefPB_7zo"
      },
      "source": [
        "## Cast to float type"
      ]
    },
    {
      "cell_type": "code",
      "source": [
        "columns_to_cast = [ 'installment',\n",
        "                   'int_rate',\n",
        "                    'loan_amnt',\n",
        "                    'annual_inc',\n",
        "                    'dti',\n",
        "                    'tax_liens',\n",
        "                    'delinq_amnt',\n",
        "                    'policy_code',\n",
        "                    'last_fico_range_high',\n",
        "                    'last_fico_range_low',\n",
        "                    'recoveries',\n",
        "                    'collection_recovery_fee'\n",
        "]\n",
        "\n",
        "# cast to float\n",
        "for column_name in columns_to_cast:\n",
        "    df = df.withColumn(column_name, col(column_name).cast('float'))"
      ],
      "metadata": {
        "id": "-5aK56CSQfiu"
      },
      "execution_count": 28,
      "outputs": []
    },
    {
      "cell_type": "code",
      "execution_count": 29,
      "metadata": {
        "id": "I-m78wv6BBdI",
        "colab": {
          "base_uri": "https://localhost:8080/"
        },
        "outputId": "54b51905-d281-4243-9b8c-7ced9e87dc48"
      },
      "outputs": [
        {
          "output_type": "execute_result",
          "data": {
            "text/plain": [
              "[('id', 'string'),\n",
              " ('term', 'int'),\n",
              " ('acc_now_delinq', 'int'),\n",
              " ('annual_inc', 'float'),\n",
              " ('application_type', 'int'),\n",
              " ('dti', 'float'),\n",
              " ('installment', 'float'),\n",
              " ('int_rate', 'float'),\n",
              " ('loan_amnt', 'float'),\n",
              " ('loan_status', 'string'),\n",
              " ('tax_liens', 'float'),\n",
              " ('delinq_amnt', 'float'),\n",
              " ('policy_code', 'float'),\n",
              " ('last_fico_range_high', 'float'),\n",
              " ('last_fico_range_low', 'float'),\n",
              " ('recoveries', 'float'),\n",
              " ('collection_recovery_fee', 'float'),\n",
              " ('verification_status_encoded', 'int'),\n",
              " ('grade_index', 'double'),\n",
              " ('purpose_encoded', 'vector'),\n",
              " ('addr_state_encoded', 'vector'),\n",
              " ('home_ownership_encoded', 'vector'),\n",
              " ('initial_list_status_encoded', 'vector')]"
            ]
          },
          "metadata": {},
          "execution_count": 29
        }
      ],
      "source": [
        "df.dtypes"
      ]
    },
    {
      "cell_type": "code",
      "execution_count": 30,
      "metadata": {
        "id": "a4L3DkQTAXuN",
        "colab": {
          "base_uri": "https://localhost:8080/",
          "height": 297
        },
        "outputId": "31ab7ee7-9c18-4995-ce7c-b2c33b7685da"
      },
      "outputs": [
        {
          "output_type": "execute_result",
          "data": {
            "text/plain": [
              "         id  term  acc_now_delinq  annual_inc  application_type        dti  \\\n",
              "0    777172    36               0     32000.0                 1  17.700001   \n",
              "1  68338832    36               0     64000.0                 1  34.950001   \n",
              "2  68407301    60               0    195000.0                 1   6.790000   \n",
              "\n",
              "   installment  int_rate  loan_amnt loan_status  ...  last_fico_range_high  \\\n",
              "0   169.270004     13.33     5000.0  Fully Paid  ...                 729.0   \n",
              "1    47.099998     12.88     1400.0  Fully Paid  ...                 704.0   \n",
              "2   652.059998     14.85    27500.0  Fully Paid  ...                 734.0   \n",
              "\n",
              "   last_fico_range_low  recoveries  collection_recovery_fee  \\\n",
              "0                725.0         0.0                      0.0   \n",
              "1                700.0         0.0                      0.0   \n",
              "2                730.0         0.0                      0.0   \n",
              "\n",
              "   verification_status_encoded  grade_index  \\\n",
              "0                            0          2.0   \n",
              "1                            1          2.0   \n",
              "2                            1          2.0   \n",
              "\n",
              "                                     purpose_encoded  \\\n",
              "0  (0.0, 0.0, 0.0, 0.0, 0.0, 0.0, 0.0, 0.0, 0.0, ...   \n",
              "1  (0.0, 0.0, 0.0, 1.0, 0.0, 0.0, 0.0, 0.0, 0.0, ...   \n",
              "2  (0.0, 0.0, 0.0, 1.0, 0.0, 0.0, 0.0, 0.0, 0.0, ...   \n",
              "\n",
              "                                  addr_state_encoded  \\\n",
              "0  (0.0, 0.0, 0.0, 0.0, 0.0, 0.0, 0.0, 0.0, 0.0, ...   \n",
              "1  (0.0, 0.0, 0.0, 0.0, 0.0, 0.0, 0.0, 0.0, 0.0, ...   \n",
              "2  (0.0, 0.0, 0.0, 0.0, 0.0, 0.0, 0.0, 0.0, 0.0, ...   \n",
              "\n",
              "      home_ownership_encoded initial_list_status_encoded  \n",
              "0  (1.0, 0.0, 0.0, 0.0, 0.0)                       (1.0)  \n",
              "1  (1.0, 0.0, 0.0, 0.0, 0.0)                       (1.0)  \n",
              "2  (1.0, 0.0, 0.0, 0.0, 0.0)                       (1.0)  \n",
              "\n",
              "[3 rows x 23 columns]"
            ],
            "text/html": [
              "\n",
              "  <div id=\"df-6e53133d-65fb-413c-aa44-510a4575f1d9\" class=\"colab-df-container\">\n",
              "    <div>\n",
              "<style scoped>\n",
              "    .dataframe tbody tr th:only-of-type {\n",
              "        vertical-align: middle;\n",
              "    }\n",
              "\n",
              "    .dataframe tbody tr th {\n",
              "        vertical-align: top;\n",
              "    }\n",
              "\n",
              "    .dataframe thead th {\n",
              "        text-align: right;\n",
              "    }\n",
              "</style>\n",
              "<table border=\"1\" class=\"dataframe\">\n",
              "  <thead>\n",
              "    <tr style=\"text-align: right;\">\n",
              "      <th></th>\n",
              "      <th>id</th>\n",
              "      <th>term</th>\n",
              "      <th>acc_now_delinq</th>\n",
              "      <th>annual_inc</th>\n",
              "      <th>application_type</th>\n",
              "      <th>dti</th>\n",
              "      <th>installment</th>\n",
              "      <th>int_rate</th>\n",
              "      <th>loan_amnt</th>\n",
              "      <th>loan_status</th>\n",
              "      <th>...</th>\n",
              "      <th>last_fico_range_high</th>\n",
              "      <th>last_fico_range_low</th>\n",
              "      <th>recoveries</th>\n",
              "      <th>collection_recovery_fee</th>\n",
              "      <th>verification_status_encoded</th>\n",
              "      <th>grade_index</th>\n",
              "      <th>purpose_encoded</th>\n",
              "      <th>addr_state_encoded</th>\n",
              "      <th>home_ownership_encoded</th>\n",
              "      <th>initial_list_status_encoded</th>\n",
              "    </tr>\n",
              "  </thead>\n",
              "  <tbody>\n",
              "    <tr>\n",
              "      <th>0</th>\n",
              "      <td>777172</td>\n",
              "      <td>36</td>\n",
              "      <td>0</td>\n",
              "      <td>32000.0</td>\n",
              "      <td>1</td>\n",
              "      <td>17.700001</td>\n",
              "      <td>169.270004</td>\n",
              "      <td>13.33</td>\n",
              "      <td>5000.0</td>\n",
              "      <td>Fully Paid</td>\n",
              "      <td>...</td>\n",
              "      <td>729.0</td>\n",
              "      <td>725.0</td>\n",
              "      <td>0.0</td>\n",
              "      <td>0.0</td>\n",
              "      <td>0</td>\n",
              "      <td>2.0</td>\n",
              "      <td>(0.0, 0.0, 0.0, 0.0, 0.0, 0.0, 0.0, 0.0, 0.0, ...</td>\n",
              "      <td>(0.0, 0.0, 0.0, 0.0, 0.0, 0.0, 0.0, 0.0, 0.0, ...</td>\n",
              "      <td>(1.0, 0.0, 0.0, 0.0, 0.0)</td>\n",
              "      <td>(1.0)</td>\n",
              "    </tr>\n",
              "    <tr>\n",
              "      <th>1</th>\n",
              "      <td>68338832</td>\n",
              "      <td>36</td>\n",
              "      <td>0</td>\n",
              "      <td>64000.0</td>\n",
              "      <td>1</td>\n",
              "      <td>34.950001</td>\n",
              "      <td>47.099998</td>\n",
              "      <td>12.88</td>\n",
              "      <td>1400.0</td>\n",
              "      <td>Fully Paid</td>\n",
              "      <td>...</td>\n",
              "      <td>704.0</td>\n",
              "      <td>700.0</td>\n",
              "      <td>0.0</td>\n",
              "      <td>0.0</td>\n",
              "      <td>1</td>\n",
              "      <td>2.0</td>\n",
              "      <td>(0.0, 0.0, 0.0, 1.0, 0.0, 0.0, 0.0, 0.0, 0.0, ...</td>\n",
              "      <td>(0.0, 0.0, 0.0, 0.0, 0.0, 0.0, 0.0, 0.0, 0.0, ...</td>\n",
              "      <td>(1.0, 0.0, 0.0, 0.0, 0.0)</td>\n",
              "      <td>(1.0)</td>\n",
              "    </tr>\n",
              "    <tr>\n",
              "      <th>2</th>\n",
              "      <td>68407301</td>\n",
              "      <td>60</td>\n",
              "      <td>0</td>\n",
              "      <td>195000.0</td>\n",
              "      <td>1</td>\n",
              "      <td>6.790000</td>\n",
              "      <td>652.059998</td>\n",
              "      <td>14.85</td>\n",
              "      <td>27500.0</td>\n",
              "      <td>Fully Paid</td>\n",
              "      <td>...</td>\n",
              "      <td>734.0</td>\n",
              "      <td>730.0</td>\n",
              "      <td>0.0</td>\n",
              "      <td>0.0</td>\n",
              "      <td>1</td>\n",
              "      <td>2.0</td>\n",
              "      <td>(0.0, 0.0, 0.0, 1.0, 0.0, 0.0, 0.0, 0.0, 0.0, ...</td>\n",
              "      <td>(0.0, 0.0, 0.0, 0.0, 0.0, 0.0, 0.0, 0.0, 0.0, ...</td>\n",
              "      <td>(1.0, 0.0, 0.0, 0.0, 0.0)</td>\n",
              "      <td>(1.0)</td>\n",
              "    </tr>\n",
              "  </tbody>\n",
              "</table>\n",
              "<p>3 rows × 23 columns</p>\n",
              "</div>\n",
              "    <div class=\"colab-df-buttons\">\n",
              "\n",
              "  <div class=\"colab-df-container\">\n",
              "    <button class=\"colab-df-convert\" onclick=\"convertToInteractive('df-6e53133d-65fb-413c-aa44-510a4575f1d9')\"\n",
              "            title=\"Convert this dataframe to an interactive table.\"\n",
              "            style=\"display:none;\">\n",
              "\n",
              "  <svg xmlns=\"http://www.w3.org/2000/svg\" height=\"24px\" viewBox=\"0 -960 960 960\">\n",
              "    <path d=\"M120-120v-720h720v720H120Zm60-500h600v-160H180v160Zm220 220h160v-160H400v160Zm0 220h160v-160H400v160ZM180-400h160v-160H180v160Zm440 0h160v-160H620v160ZM180-180h160v-160H180v160Zm440 0h160v-160H620v160Z\"/>\n",
              "  </svg>\n",
              "    </button>\n",
              "\n",
              "  <style>\n",
              "    .colab-df-container {\n",
              "      display:flex;\n",
              "      gap: 12px;\n",
              "    }\n",
              "\n",
              "    .colab-df-convert {\n",
              "      background-color: #E8F0FE;\n",
              "      border: none;\n",
              "      border-radius: 50%;\n",
              "      cursor: pointer;\n",
              "      display: none;\n",
              "      fill: #1967D2;\n",
              "      height: 32px;\n",
              "      padding: 0 0 0 0;\n",
              "      width: 32px;\n",
              "    }\n",
              "\n",
              "    .colab-df-convert:hover {\n",
              "      background-color: #E2EBFA;\n",
              "      box-shadow: 0px 1px 2px rgba(60, 64, 67, 0.3), 0px 1px 3px 1px rgba(60, 64, 67, 0.15);\n",
              "      fill: #174EA6;\n",
              "    }\n",
              "\n",
              "    .colab-df-buttons div {\n",
              "      margin-bottom: 4px;\n",
              "    }\n",
              "\n",
              "    [theme=dark] .colab-df-convert {\n",
              "      background-color: #3B4455;\n",
              "      fill: #D2E3FC;\n",
              "    }\n",
              "\n",
              "    [theme=dark] .colab-df-convert:hover {\n",
              "      background-color: #434B5C;\n",
              "      box-shadow: 0px 1px 3px 1px rgba(0, 0, 0, 0.15);\n",
              "      filter: drop-shadow(0px 1px 2px rgba(0, 0, 0, 0.3));\n",
              "      fill: #FFFFFF;\n",
              "    }\n",
              "  </style>\n",
              "\n",
              "    <script>\n",
              "      const buttonEl =\n",
              "        document.querySelector('#df-6e53133d-65fb-413c-aa44-510a4575f1d9 button.colab-df-convert');\n",
              "      buttonEl.style.display =\n",
              "        google.colab.kernel.accessAllowed ? 'block' : 'none';\n",
              "\n",
              "      async function convertToInteractive(key) {\n",
              "        const element = document.querySelector('#df-6e53133d-65fb-413c-aa44-510a4575f1d9');\n",
              "        const dataTable =\n",
              "          await google.colab.kernel.invokeFunction('convertToInteractive',\n",
              "                                                    [key], {});\n",
              "        if (!dataTable) return;\n",
              "\n",
              "        const docLinkHtml = 'Like what you see? Visit the ' +\n",
              "          '<a target=\"_blank\" href=https://colab.research.google.com/notebooks/data_table.ipynb>data table notebook</a>'\n",
              "          + ' to learn more about interactive tables.';\n",
              "        element.innerHTML = '';\n",
              "        dataTable['output_type'] = 'display_data';\n",
              "        await google.colab.output.renderOutput(dataTable, element);\n",
              "        const docLink = document.createElement('div');\n",
              "        docLink.innerHTML = docLinkHtml;\n",
              "        element.appendChild(docLink);\n",
              "      }\n",
              "    </script>\n",
              "  </div>\n",
              "\n",
              "    </div>\n",
              "  </div>\n"
            ]
          },
          "metadata": {},
          "execution_count": 30
        }
      ],
      "source": [
        "df.limit(3).toPandas()"
      ]
    },
    {
      "cell_type": "markdown",
      "metadata": {
        "id": "VmjDjoV2NzQU"
      },
      "source": [
        "## 'loan_status' -> target"
      ]
    },
    {
      "cell_type": "code",
      "execution_count": 31,
      "metadata": {
        "id": "J5qruiYKO6OT",
        "colab": {
          "base_uri": "https://localhost:8080/"
        },
        "outputId": "ed3df4f3-ec84-46f9-fb96-dd3d3fc28ae7"
      },
      "outputs": [
        {
          "output_type": "stream",
          "name": "stdout",
          "text": [
            "+--------------------+-------+\n",
            "|         loan_status|  count|\n",
            "+--------------------+-------+\n",
            "|          Fully Paid|1076218|\n",
            "|             Default|     40|\n",
            "|     In Grace Period|   8427|\n",
            "|         Charged Off| 268452|\n",
            "|  Late (31-120 days)|  21443|\n",
            "|             Current| 877018|\n",
            "|   Late (16-30 days)|   4344|\n",
            "|Does not meet the...|   1913|\n",
            "|Does not meet the...|    741|\n",
            "+--------------------+-------+\n",
            "\n"
          ]
        }
      ],
      "source": [
        "df.groupby('loan_status').count()\\\n",
        ".show()"
      ]
    },
    {
      "cell_type": "code",
      "execution_count": 32,
      "metadata": {
        "id": "O444r9lJP_bk"
      },
      "outputs": [],
      "source": [
        "# encode 'loan_status' to 0 - fully paid, 1 - late, 2 - charged off\n",
        "df = df.withColumn(\"target\",\n",
        "                   when(col(\"loan_status\") == \"Fully Paid\", 0)\n",
        "                   .when((col(\"loan_status\") == \"Late (16-30 days)\") | (col(\"loan_status\") == \"Late (31-120 days)\") | (col(\"loan_status\") == \"In Grace Period\"), 1)\n",
        "                   .when((col(\"loan_status\") == \"Charged Off\") | (col(\"loan_status\") == 'Default'), 2)\n",
        "                   .otherwise(None))\\\n",
        ".drop(\"loan_status\")\n",
        "df = df.filter(df.target.isNotNull())"
      ]
    },
    {
      "cell_type": "code",
      "source": [
        "df.groupby('target').count()\\\n",
        ".show()"
      ],
      "metadata": {
        "id": "ry9f_DmB2LUD",
        "colab": {
          "base_uri": "https://localhost:8080/"
        },
        "outputId": "de70ddc1-3268-4309-b6bc-e5283814b149"
      },
      "execution_count": 33,
      "outputs": [
        {
          "output_type": "stream",
          "name": "stdout",
          "text": [
            "+------+-------+\n",
            "|target|  count|\n",
            "+------+-------+\n",
            "|     1|  34214|\n",
            "|     2| 268492|\n",
            "|     0|1076218|\n",
            "+------+-------+\n",
            "\n"
          ]
        }
      ]
    },
    {
      "cell_type": "markdown",
      "metadata": {
        "id": "MQuj_IuruiM_"
      },
      "source": [
        "# Downsampling\n",
        "By applying undersampling on Class 0, I can achieve a more balanced dataset where all classes have comparable representation. This can help improve the performance of machine learning models, as they will be trained on a more representative dataset."
      ]
    },
    {
      "cell_type": "code",
      "execution_count": 34,
      "metadata": {
        "id": "1Chm5HU9LM9a"
      },
      "outputs": [],
      "source": [
        "df = df.drop('id')"
      ]
    },
    {
      "cell_type": "code",
      "execution_count": 35,
      "metadata": {
        "id": "1xWReGZDvo-C"
      },
      "outputs": [],
      "source": [
        "df_downsampled = df.filter(col(\"target\") == 0).sampleBy(\"target\", fractions={0: 0.3}).unionAll(df.filter(col(\"target\") != 0))\n",
        "df_downsampled = df_downsampled.na.drop()"
      ]
    },
    {
      "cell_type": "code",
      "source": [
        "# Original dataset\n",
        "loan_status_count_original = df.groupby('target').count().toPandas()\n",
        "\n",
        "plt.figure(figsize=(15, 6))\n",
        "\n",
        "# Subplot 1 - Target Distribution before downsampling\n",
        "plt.subplot(1, 3, 1)\n",
        "plt.pie(loan_status_count_original['count'], labels=loan_status_count_original['target'], autopct='%1.1f%%')\n",
        "plt.title('Target Distribution - Original Dataset')\n",
        "\n",
        "# Downsampled dataset\n",
        "loan_status_count_downsampled = df_downsampled.groupby('target').count().toPandas()\n",
        "\n",
        "# Subplot 2 - Target Distribution after downsampling\n",
        "plt.subplot(1, 3, 2)\n",
        "plt.pie(loan_status_count_downsampled['count'], labels=loan_status_count_downsampled['target'], autopct='%1.1f%%')\n",
        "plt.title('Target Distribution - After Downsampling')\n",
        "\n",
        "plt.show()"
      ],
      "metadata": {
        "id": "6sTfEgPiUIfD",
        "colab": {
          "base_uri": "https://localhost:8080/",
          "height": 401
        },
        "outputId": "9173e868-c6b8-4d02-851a-72bb111b0e54"
      },
      "execution_count": 36,
      "outputs": [
        {
          "output_type": "display_data",
          "data": {
            "text/plain": [
              "<Figure size 1500x600 with 2 Axes>"
            ],
            "image/png": "[encoded data removed]"
          },
          "metadata": {}
        }
      ]
    },
    {
      "cell_type": "code",
      "source": [
        "df_downsampled.groupby('target').count()\\\n",
        ".show()"
      ],
      "metadata": {
        "colab": {
          "base_uri": "https://localhost:8080/"
        },
        "id": "D0JnCcS6J9nm",
        "outputId": "8190bbdf-1c03-40ab-f665-2d45a2910c94"
      },
      "execution_count": 37,
      "outputs": [
        {
          "output_type": "stream",
          "name": "stdout",
          "text": [
            "+------+------+\n",
            "|target| count|\n",
            "+------+------+\n",
            "|     0|323924|\n",
            "|     1| 34214|\n",
            "|     2|268492|\n",
            "+------+------+\n",
            "\n"
          ]
        }
      ]
    },
    {
      "cell_type": "markdown",
      "metadata": {
        "id": "N0ow2ehoYl8t"
      },
      "source": [
        "# VectorAssembler"
      ]
    },
    {
      "cell_type": "code",
      "execution_count": 38,
      "metadata": {
        "id": "bDhdqm4OYmu-"
      },
      "outputs": [],
      "source": [
        "all_columns = df_downsampled.columns\n",
        "feature_cols = [col_name for col_name in all_columns if col_name != 'target']\n",
        "\n",
        "target = ['target']\n",
        "assembler = VectorAssembler(inputCols=feature_cols, outputCol=\"features_to_scale\")\n",
        "\n",
        "df_downsampled = assembler.transform(df_downsampled)"
      ]
    },
    {
      "cell_type": "code",
      "source": [
        "df_downsampled\\\n",
        ".select('features_to_scale', 'target')\\\n",
        ".show(5)"
      ],
      "metadata": {
        "colab": {
          "base_uri": "https://localhost:8080/"
        },
        "id": "ChZi28NoIJJC",
        "outputId": "753a8a95-16b0-4405-a54a-efe2f7804553"
      },
      "execution_count": 39,
      "outputs": [
        {
          "output_type": "stream",
          "name": "stdout",
          "text": [
            "+--------------------+------+\n",
            "|   features_to_scale|target|\n",
            "+--------------------+------+\n",
            "|(86,[0,2,3,4,5,6,...|     0|\n",
            "|(86,[0,2,3,4,5,6,...|     0|\n",
            "|(86,[0,2,3,4,5,6,...|     0|\n",
            "|(86,[0,2,3,4,5,6,...|     0|\n",
            "|(86,[0,2,3,4,5,6,...|     0|\n",
            "+--------------------+------+\n",
            "only showing top 5 rows\n",
            "\n"
          ]
        }
      ]
    },
    {
      "cell_type": "markdown",
      "metadata": {
        "id": "QYMEy-cqYUEv"
      },
      "source": [
        "#MinMaxScaler"
      ]
    },
    {
      "cell_type": "code",
      "source": [
        "train_data, temp_data = df_downsampled.randomSplit([0.8, 0.2], seed=42)\n",
        "test_data, val_data = temp_data.randomSplit([0.5, 0.5], seed=42)"
      ],
      "metadata": {
        "id": "3HjKIvnZcLLd"
      },
      "execution_count": 40,
      "outputs": []
    },
    {
      "cell_type": "code",
      "execution_count": 41,
      "metadata": {
        "id": "NeiaMF4KYV3Y"
      },
      "outputs": [],
      "source": [
        "train_data = scale_features(train_data, \"features_to_scale\", \"features\")\n",
        "val_data = scale_features(val_data, \"features_to_scale\", \"features\")\n",
        "test_data = scale_features(test_data, \"features_to_scale\", \"features\")"
      ]
    },
    {
      "cell_type": "markdown",
      "metadata": {
        "id": "yXbJVGpJX2ux"
      },
      "source": [
        "# Models"
      ]
    },
    {
      "cell_type": "markdown",
      "source": [
        "## Logistic Regression"
      ],
      "metadata": {
        "id": "UDr3ELmBOLJN"
      }
    },
    {
      "cell_type": "code",
      "source": [
        "lr = LogisticRegression(featuresCol='features', labelCol='target')\n",
        "results_df_lr = evaluate_model(lr, 'LogisticRegression', train_data, val_data, test_data)"
      ],
      "metadata": {
        "id": "VdvwsDnQRC0C"
      },
      "execution_count": 42,
      "outputs": []
    },
    {
      "cell_type": "markdown",
      "source": [
        "## Random Forest"
      ],
      "metadata": {
        "id": "1mezr2DQOJlT"
      }
    },
    {
      "cell_type": "code",
      "source": [
        "rf = RandomForestClassifier(featuresCol = 'features', labelCol = 'target')\n",
        "results_df_rf = evaluate_model(rf, 'Random Forest', train_data, val_data, test_data)"
      ],
      "metadata": {
        "id": "CWbp_dFGf6ze"
      },
      "execution_count": 43,
      "outputs": []
    },
    {
      "cell_type": "markdown",
      "source": [
        "## Neural Network"
      ],
      "metadata": {
        "id": "rIl5q1ACObFL"
      }
    },
    {
      "cell_type": "code",
      "source": [
        "# input:29, 64 neurons in 1 hidden layer, 32 neurons in 2 hidden layer, outopt: 3\n",
        "layers = [86, 64, 32, 3]\n",
        "mlp = MultilayerPerceptronClassifier(layers=layers, labelCol=\"target\", featuresCol=\"features\", maxIter=100, seed=123)\n",
        "\n",
        "results_df_mlp = evaluate_model(mlp, 'Neural Network', train_data, val_data, test_data)"
      ],
      "metadata": {
        "id": "O6WkAcBrDivi"
      },
      "execution_count": 44,
      "outputs": []
    },
    {
      "cell_type": "markdown",
      "source": [
        "## Results"
      ],
      "metadata": {
        "id": "fTpqlmHNpQX3"
      }
    },
    {
      "cell_type": "code",
      "source": [
        "final_results_df = pd.concat([results_df_lr, results_df_rf, results_df_mlp], ignore_index=True)\n",
        "final_results_df"
      ],
      "metadata": {
        "colab": {
          "base_uri": "https://localhost:8080/",
          "height": 143
        },
        "id": "emcbpyxnZQ4q",
        "outputId": "03a087a7-417e-42e0-ad02-f5293fa86196"
      },
      "execution_count": 45,
      "outputs": [
        {
          "output_type": "execute_result",
          "data": {
            "text/plain": [
              "                Model  Accuracy (Train)  F1 Score (Train)  \\\n",
              "0  LogisticRegression             0.882             0.863   \n",
              "1       Random Forest             0.878             0.853   \n",
              "2      Neural Network             0.864             0.846   \n",
              "\n",
              "   Accuracy (Validation)  F1 Score (Validation)  Accuracy (Test)  \\\n",
              "0                  0.877                  0.862            0.879   \n",
              "1                  0.878                  0.854            0.876   \n",
              "2                  0.866                  0.848            0.865   \n",
              "\n",
              "   F1 Score (Test)  \n",
              "0            0.862  \n",
              "1            0.851  \n",
              "2            0.847  "
            ],
            "text/html": [
              "\n",
              "  <div id=\"df-1e8f29ff-fa06-4a2b-8aa0-4fd98431941e\" class=\"colab-df-container\">\n",
              "    <div>\n",
              "<style scoped>\n",
              "    .dataframe tbody tr th:only-of-type {\n",
              "        vertical-align: middle;\n",
              "    }\n",
              "\n",
              "    .dataframe tbody tr th {\n",
              "        vertical-align: top;\n",
              "    }\n",
              "\n",
              "    .dataframe thead th {\n",
              "        text-align: right;\n",
              "    }\n",
              "</style>\n",
              "<table border=\"1\" class=\"dataframe\">\n",
              "  <thead>\n",
              "    <tr style=\"text-align: right;\">\n",
              "      <th></th>\n",
              "      <th>Model</th>\n",
              "      <th>Accuracy (Train)</th>\n",
              "      <th>F1 Score (Train)</th>\n",
              "      <th>Accuracy (Validation)</th>\n",
              "      <th>F1 Score (Validation)</th>\n",
              "      <th>Accuracy (Test)</th>\n",
              "      <th>F1 Score (Test)</th>\n",
              "    </tr>\n",
              "  </thead>\n",
              "  <tbody>\n",
              "    <tr>\n",
              "      <th>0</th>\n",
              "      <td>LogisticRegression</td>\n",
              "      <td>0.882</td>\n",
              "      <td>0.863</td>\n",
              "      <td>0.877</td>\n",
              "      <td>0.862</td>\n",
              "      <td>0.879</td>\n",
              "      <td>0.862</td>\n",
              "    </tr>\n",
              "    <tr>\n",
              "      <th>1</th>\n",
              "      <td>Random Forest</td>\n",
              "      <td>0.878</td>\n",
              "      <td>0.853</td>\n",
              "      <td>0.878</td>\n",
              "      <td>0.854</td>\n",
              "      <td>0.876</td>\n",
              "      <td>0.851</td>\n",
              "    </tr>\n",
              "    <tr>\n",
              "      <th>2</th>\n",
              "      <td>Neural Network</td>\n",
              "      <td>0.864</td>\n",
              "      <td>0.846</td>\n",
              "      <td>0.866</td>\n",
              "      <td>0.848</td>\n",
              "      <td>0.865</td>\n",
              "      <td>0.847</td>\n",
              "    </tr>\n",
              "  </tbody>\n",
              "</table>\n",
              "</div>\n",
              "    <div class=\"colab-df-buttons\">\n",
              "\n",
              "  <div class=\"colab-df-container\">\n",
              "    <button class=\"colab-df-convert\" onclick=\"convertToInteractive('df-1e8f29ff-fa06-4a2b-8aa0-4fd98431941e')\"\n",
              "            title=\"Convert this dataframe to an interactive table.\"\n",
              "            style=\"display:none;\">\n",
              "\n",
              "  <svg xmlns=\"http://www.w3.org/2000/svg\" height=\"24px\" viewBox=\"0 -960 960 960\">\n",
              "    <path d=\"M120-120v-720h720v720H120Zm60-500h600v-160H180v160Zm220 220h160v-160H400v160Zm0 220h160v-160H400v160ZM180-400h160v-160H180v160Zm440 0h160v-160H620v160ZM180-180h160v-160H180v160Zm440 0h160v-160H620v160Z\"/>\n",
              "  </svg>\n",
              "    </button>\n",
              "\n",
              "  <style>\n",
              "    .colab-df-container {\n",
              "      display:flex;\n",
              "      gap: 12px;\n",
              "    }\n",
              "\n",
              "    .colab-df-convert {\n",
              "      background-color: #E8F0FE;\n",
              "      border: none;\n",
              "      border-radius: 50%;\n",
              "      cursor: pointer;\n",
              "      display: none;\n",
              "      fill: #1967D2;\n",
              "      height: 32px;\n",
              "      padding: 0 0 0 0;\n",
              "      width: 32px;\n",
              "    }\n",
              "\n",
              "    .colab-df-convert:hover {\n",
              "      background-color: #E2EBFA;\n",
              "      box-shadow: 0px 1px 2px rgba(60, 64, 67, 0.3), 0px 1px 3px 1px rgba(60, 64, 67, 0.15);\n",
              "      fill: #174EA6;\n",
              "    }\n",
              "\n",
              "    .colab-df-buttons div {\n",
              "      margin-bottom: 4px;\n",
              "    }\n",
              "\n",
              "    [theme=dark] .colab-df-convert {\n",
              "      background-color: #3B4455;\n",
              "      fill: #D2E3FC;\n",
              "    }\n",
              "\n",
              "    [theme=dark] .colab-df-convert:hover {\n",
              "      background-color: #434B5C;\n",
              "      box-shadow: 0px 1px 3px 1px rgba(0, 0, 0, 0.15);\n",
              "      filter: drop-shadow(0px 1px 2px rgba(0, 0, 0, 0.3));\n",
              "      fill: #FFFFFF;\n",
              "    }\n",
              "  </style>\n",
              "\n",
              "    <script>\n",
              "      const buttonEl =\n",
              "        document.querySelector('#df-1e8f29ff-fa06-4a2b-8aa0-4fd98431941e button.colab-df-convert');\n",
              "      buttonEl.style.display =\n",
              "        google.colab.kernel.accessAllowed ? 'block' : 'none';\n",
              "\n",
              "      async function convertToInteractive(key) {\n",
              "        const element = document.querySelector('#df-1e8f29ff-fa06-4a2b-8aa0-4fd98431941e');\n",
              "        const dataTable =\n",
              "          await google.colab.kernel.invokeFunction('convertToInteractive',\n",
              "                                                    [key], {});\n",
              "        if (!dataTable) return;\n",
              "\n",
              "        const docLinkHtml = 'Like what you see? Visit the ' +\n",
              "          '<a target=\"_blank\" href=https://colab.research.google.com/notebooks/data_table.ipynb>data table notebook</a>'\n",
              "          + ' to learn more about interactive tables.';\n",
              "        element.innerHTML = '';\n",
              "        dataTable['output_type'] = 'display_data';\n",
              "        await google.colab.output.renderOutput(dataTable, element);\n",
              "        const docLink = document.createElement('div');\n",
              "        docLink.innerHTML = docLinkHtml;\n",
              "        element.appendChild(docLink);\n",
              "      }\n",
              "    </script>\n",
              "  </div>\n",
              "\n",
              "    </div>\n",
              "  </div>\n"
            ]
          },
          "metadata": {},
          "execution_count": 45
        }
      ]
    },
    {
      "cell_type": "markdown",
      "source": [
        "## Grid Search & Cross Validation"
      ],
      "metadata": {
        "id": "kgYWenS5OsmN"
      }
    },
    {
      "cell_type": "code",
      "source": [
        "lr_model = LogisticRegression(featuresCol=\"features\", labelCol=\"target\")\n",
        "f1_evaluator = MulticlassClassificationEvaluator(metricName=\"weightedFMeasure\", labelCol=\"target\")\n",
        "\n",
        "# Define the parameter grid for hyperparameter tuning\n",
        "paramGrid = ParamGridBuilder() \\\n",
        "    .addGrid(lr_model.regParam, [0.01, 0.1]) \\\n",
        "    .addGrid(lr_model.elasticNetParam, [0.0, 0.5]) \\\n",
        "    .build()\n",
        "\n",
        "# Initialize the CrossValidator\n",
        "crossval = CrossValidator(estimator=lr_model,\n",
        "                          estimatorParamMaps=paramGrid,\n",
        "                          evaluator=f1_evaluator,\n",
        "                          numFolds=5)\n",
        "\n",
        "# Fit the model\n",
        "cvModel = crossval.fit(train_data)\n",
        "\n",
        "# Find the best model\n",
        "best_model = cvModel.bestModel\n",
        "\n",
        "# Get the best parameters\n",
        "param_names = [\"regParam\", \"elasticNetParam\"]\n",
        "best_params = {param_name: cvModel.bestModel.getOrDefault(param_name)\n",
        "               for param_name in param_names}\n",
        "\n",
        "print(f'Model: {best_model},\\nParameters: {best_params}')\n",
        "\n",
        "# Get the model parameters and their average metrics\n",
        "estimator_param_maps = cvModel.getEstimatorParamMaps()\n",
        "avg_metrics = cvModel.avgMetrics\n",
        "\n",
        "for idx, param_map in enumerate(estimator_param_maps):\n",
        "    metrics = avg_metrics[idx]\n",
        "    print(\"Parameters:\", param_map, '\\n')\n",
        "    print(\"Average Metric:\", metrics, '\\n')\n",
        "    print(\"---\")"
      ],
      "metadata": {
        "id": "Dpol2hP-UgS6"
      },
      "execution_count": null,
      "outputs": []
    }
  ],
  "metadata": {
    "colab": {
      "provenance": [],
      "toc_visible": true,
      "authorship_tag": "ABX9TyOj1H3cd94aif4S6Ug/F7R1",
      "include_colab_link": true
    },
    "kernelspec": {
      "display_name": "Python 3",
      "name": "python3"
    },
    "language_info": {
      "name": "python"
    }
  },
  "nbformat": 4,
  "nbformat_minor": 0
}